{
 "cells": [
  {
   "cell_type": "code",
   "execution_count": 122,
   "metadata": {},
   "outputs": [
    {
     "name": "stdout",
     "output_type": "stream",
     "text": [
      "Hello\n"
     ]
    }
   ],
   "source": [
    "print(\"Hello\")"
   ]
  },
  {
   "cell_type": "code",
   "execution_count": 123,
   "metadata": {},
   "outputs": [
    {
     "name": "stdout",
     "output_type": "stream",
     "text": [
      "\n"
     ]
    }
   ],
   "source": [
    "# Creating a dictionary\n",
    "my_dict = {\n",
    "    'name': 'syc',\n",
    "    'age': 18,\n",
    "    'city': 'aus'\n",
    "}\n",
    "print ()\n"
   ]
  },
  {
   "cell_type": "code",
   "execution_count": 124,
   "metadata": {},
   "outputs": [
    {
     "name": "stdout",
     "output_type": "stream",
     "text": [
      "syc\n",
      "18\n"
     ]
    }
   ],
   "source": [
    "# Accessing values\n",
    "print(my_dict['name'])  \n",
    "print(my_dict['age'])   \n"
   ]
  },
  {
   "cell_type": "code",
   "execution_count": 125,
   "metadata": {},
   "outputs": [
    {
     "name": "stdout",
     "output_type": "stream",
     "text": [
      "18\n"
     ]
    }
   ],
   "source": [
    "# Modifying values\n",
    "my_dict['age'] = 18\n",
    "print(my_dict['age'])  \n"
   ]
  },
  {
   "cell_type": "code",
   "execution_count": 126,
   "metadata": {},
   "outputs": [
    {
     "name": "stdout",
     "output_type": "stream",
     "text": [
      "{'name': 'syc', 'age': 18, 'city': 'aus', 'million': 'billion'}\n"
     ]
    }
   ],
   "source": [
    "# Adding new key-value pair\n",
    "my_dict['million'] = 'billion'\n",
    "print(my_dict)\n",
    "\n"
   ]
  },
  {
   "cell_type": "code",
   "execution_count": 127,
   "metadata": {},
   "outputs": [
    {
     "name": "stdout",
     "output_type": "stream",
     "text": [
      "dict_keys(['name', 'age', 'city', 'million'])\n",
      "dict_values(['syc', 18, 'aus', 'billion'])\n",
      "dict_items([('name', 'syc'), ('age', 18), ('city', 'aus'), ('million', 'billion')])\n"
     ]
    }
   ],
   "source": [
    "# Using dictionary methods\n",
    "print(my_dict.keys())    \n",
    "print(my_dict.values())\n",
    "print(my_dict.items())   \n"
   ]
  },
  {
   "cell_type": "code",
   "execution_count": 1,
   "metadata": {},
   "outputs": [
    {
     "name": "stdout",
     "output_type": "stream",
     "text": [
      "<class 'dict'>\n"
     ]
    }
   ],
   "source": [
    "personal_bio = {\"first_name\": \" ibrahim\"\n",
    "                \"last_name\" \"shah\"\n",
    "                \"address\" \"karaci, multan\"\n",
    "                }\n",
    "print(type(personal_bio))"
   ]
  },
  {
   "cell_type": "code",
   "execution_count": 129,
   "metadata": {},
   "outputs": [
    {
     "name": "stdout",
     "output_type": "stream",
     "text": [
      "key: personal_bio, value: some_value\n"
     ]
    }
   ],
   "source": [
    "bio_list = {'personal_bio': 'some_value'}\n",
    "for key, value in bio_list.items():\n",
    "    print(f\"key: {key}, value: {value}\")\n"
   ]
  },
  {
   "cell_type": "code",
   "execution_count": 130,
   "metadata": {},
   "outputs": [],
   "source": [
    "bio_list = {'personal_bio': ''}\n",
    "customer = 'apple,banana'\n"
   ]
  },
  {
   "cell_type": "code",
   "execution_count": 131,
   "metadata": {},
   "outputs": [],
   "source": [
    "bio_list = {'personal_bio': ''}\n",
    "customer = ['apple', 'banana']\n"
   ]
  },
  {
   "cell_type": "code",
   "execution_count": 132,
   "metadata": {},
   "outputs": [
    {
     "name": "stdout",
     "output_type": "stream",
     "text": [
      "lahore\n",
      "lahore\n",
      "karachi\n",
      "karachi\n"
     ]
    }
   ],
   "source": [
    "cities = ['lahore', 'karachi']\n",
    "\n",
    "for city in cities:\n",
    "    print(city)\n",
    "    print(city)\n"
   ]
  },
  {
   "cell_type": "code",
   "execution_count": 133,
   "metadata": {},
   "outputs": [],
   "source": [
    "costumer_dic = personal_bio\n",
    "list= (personal_bio)\n",
    "list = \"apple , banana , grapes,  hat\""
   ]
  },
  {
   "cell_type": "code",
   "execution_count": 134,
   "metadata": {},
   "outputs": [
    {
     "name": "stdout",
     "output_type": "stream",
     "text": [
      "first_name, last_name,address\n"
     ]
    }
   ],
   "source": [
    "first_name = 'ibrahim'\n",
    "last_name = 'syc'\n",
    "address = 'aus'\n",
    "print(\"first_name, last_name,address\")"
   ]
  },
  {
   "cell_type": "code",
   "execution_count": 135,
   "metadata": {},
   "outputs": [
    {
     "name": "stdout",
     "output_type": "stream",
     "text": [
      "Customer email: customer1@example.com\n",
      "Customer email: customer2@example.com\n",
      "Customer email: customer3@example.com\n"
     ]
    }
   ],
   "source": [
    "customer_dict = {\n",
    "    'customer1': {'email': 'customer1@example.com'},\n",
    "    'customer2': {'email': 'customer2@example.com'},\n",
    "    'customer3': {'email': 'customer3@example.com'}\n",
    "}\n",
    "\n",
    "for customer, details in customer_dict.items():\n",
    "    email = details['email']\n",
    "    print(f\"Customer email: {email}\")\n"
   ]
  },
  {
   "cell_type": "code",
   "execution_count": 136,
   "metadata": {},
   "outputs": [],
   "source": [
    "customers = {\n",
    "    'customer1': {\n",
    "        'name': 'ibrahim',\n",
    "        'age': 18,\n",
    "        'email': 'syc@example.com',\n",
    "        'address': '123 Main St, Anytown, aus'\n",
    "    },\n",
    "    'customer2': {\n",
    "        'name': 'ibrahim',\n",
    "        'age': 18,\n",
    "        'email': 'syc@example.com',\n",
    "        'address': '456 Elm St, Newtown, aus'\n",
    "    },\n",
    "    'customer3': {\n",
    "        'name': 'ibrahim',\n",
    "        'age': 18,\n",
    "        'email': 'syc@example.com',\n",
    "        'address': '789 Oak Ave, Othertown, aus'\n",
    "    },\n",
    "    'customer4': {\n",
    "        'name': 'ibrahm',\n",
    "        'age': 18,\n",
    "        'email': 'syc@example.com',\n",
    "        'address': '321 Cedar rd, multan, aus'\n",
    "    }\n",
    "}\n"
   ]
  },
  {
   "cell_type": "code",
   "execution_count": 137,
   "metadata": {},
   "outputs": [
    {
     "name": "stdout",
     "output_type": "stream",
     "text": [
      "ibrahim\n",
      "syc@example.com\n"
     ]
    }
   ],
   "source": [
    "print(customers['customer1']['name'])   \n",
    "print(customers['customer2']['email'])  \n"
   ]
  },
  {
   "cell_type": "code",
   "execution_count": 138,
   "metadata": {},
   "outputs": [
    {
     "name": "stdout",
     "output_type": "stream",
     "text": [
      "key is: ibrahim\n",
      "value is: {'address': '123 Main St', 'age': 18}\n",
      "address of ibrahim is 123 Main St\n",
      "-----\n",
      "key is: syc\n",
      "value is: {'address': '456 Elm St', 'age': 18}\n",
      "address of syc is 456 Elm St\n",
      "-----\n",
      "****** Loop ends ******\n"
     ]
    }
   ],
   "source": [
    "# Assuming customers is your dictionary\n",
    "customers = {\n",
    "    'ibrahim': {'address': '123 Main St', 'age': 18},\n",
    "    'syc': {'address': '456 Elm St', 'age': 18}\n",
    "}\n",
    "\n",
    "for key, value in customers.items():\n",
    "    print(f'key is: {key}')\n",
    "    print(f'value is: {value}')\n",
    "    print(f'address of {key} is {value[\"address\"]}')  \n",
    "    print(\"-----\")\n",
    "\n",
    "print(\"****** Loop ends ******\")\n"
   ]
  },
  {
   "cell_type": "code",
   "execution_count": 139,
   "metadata": {},
   "outputs": [],
   "source": [
    "saylani = {\"python\": {\"timings\" : \"mwf\",\n",
    "                        \"instructer\": \"ayan\"},\n",
    "                \"data engneering\": { \"timing\" : \"tts\",\n",
    "                                 \"instructer\": \"ibrahim\"}}"
   ]
  },
  {
   "cell_type": "code",
   "execution_count": 140,
   "metadata": {},
   "outputs": [],
   "source": [
    "# print()\n",
    "# type()\n",
    "# id()\n",
    "# input ---> function (operation) ---> diserd result (based on operation)"
   ]
  },
  {
   "cell_type": "code",
   "execution_count": 141,
   "metadata": {},
   "outputs": [],
   "source": [
    "def print_func():\n",
    "    print(\"saylani\")"
   ]
  },
  {
   "cell_type": "code",
   "execution_count": 142,
   "metadata": {},
   "outputs": [
    {
     "name": "stdout",
     "output_type": "stream",
     "text": [
      "saylani\n"
     ]
    }
   ],
   "source": [
    "print_func()"
   ]
  },
  {
   "cell_type": "code",
   "execution_count": 143,
   "metadata": {},
   "outputs": [
    {
     "name": "stdout",
     "output_type": "stream",
     "text": [
      "13\n"
     ]
    }
   ],
   "source": [
    "def add(a,b):\n",
    "    total = a+b\n",
    "    print(total)\n",
    "add(4,9)    "
   ]
  },
  {
   "cell_type": "code",
   "execution_count": 144,
   "metadata": {},
   "outputs": [
    {
     "name": "stdout",
     "output_type": "stream",
     "text": [
      "16\n"
     ]
    }
   ],
   "source": [
    "add(7,9)"
   ]
  },
  {
   "cell_type": "code",
   "execution_count": 145,
   "metadata": {},
   "outputs": [],
   "source": [
    "def temp_kelvin(celcius, default_kelvin_value = 273.15):\n",
    "    print(celcius + default_kelvin_value)"
   ]
  },
  {
   "cell_type": "code",
   "execution_count": 146,
   "metadata": {},
   "outputs": [
    {
     "name": "stdout",
     "output_type": "stream",
     "text": [
      "361.15\n"
     ]
    }
   ],
   "source": [
    "temp_kelvin(88)"
   ]
  },
  {
   "cell_type": "code",
   "execution_count": 147,
   "metadata": {},
   "outputs": [
    {
     "name": "stdout",
     "output_type": "stream",
     "text": [
      "-4\n"
     ]
    }
   ],
   "source": [
    "def subtract(a,b):\n",
    "    print(a-b)\n",
    "subtract(2,6)"
   ]
  },
  {
   "cell_type": "code",
   "execution_count": 148,
   "metadata": {},
   "outputs": [],
   "source": [
    "def greetings(first_name, last_name, greetings=\"welcome\"):\n",
    "    print(f'hey, {first_name}{last_name},{greetings}')"
   ]
  },
  {
   "cell_type": "code",
   "execution_count": 149,
   "metadata": {},
   "outputs": [
    {
     "name": "stdout",
     "output_type": "stream",
     "text": [
      "hey, Ibrahimshah,welcome\n"
     ]
    }
   ],
   "source": [
    "greetings(\"Ibrahim\",\"shah\")"
   ]
  },
  {
   "cell_type": "code",
   "execution_count": 150,
   "metadata": {},
   "outputs": [
    {
     "name": "stdout",
     "output_type": "stream",
     "text": [
      "351\n"
     ]
    }
   ],
   "source": [
    "temp_kelvin(78,273)"
   ]
  },
  {
   "cell_type": "code",
   "execution_count": 151,
   "metadata": {},
   "outputs": [
    {
     "name": "stdout",
     "output_type": "stream",
     "text": [
      "4\n"
     ]
    }
   ],
   "source": [
    "str1 = \"syco\"\n",
    "print(len(str1))"
   ]
  },
  {
   "cell_type": "code",
   "execution_count": 152,
   "metadata": {},
   "outputs": [
    {
     "name": "stdout",
     "output_type": "stream",
     "text": [
      "n\n"
     ]
    }
   ],
   "source": [
    "str = \"honeybee\"\n",
    "ch = str [2] \n",
    "print(ch)"
   ]
  },
  {
   "cell_type": "code",
   "execution_count": 153,
   "metadata": {},
   "outputs": [
    {
     "name": "stdout",
     "output_type": "stream",
     "text": [
      "bra\n"
     ]
    }
   ],
   "source": [
    "str = \"ibrahim shah\"\n",
    "print(str[1:4])"
   ]
  },
  {
   "cell_type": "code",
   "execution_count": 154,
   "metadata": {},
   "outputs": [
    {
     "name": "stdout",
     "output_type": "stream",
     "text": [
      "evil\n"
     ]
    }
   ],
   "source": [
    "str = \"sycodevil\"\n",
    "print(str[5:len(str)])"
   ]
  },
  {
   "cell_type": "code",
   "execution_count": 155,
   "metadata": {},
   "outputs": [
    {
     "name": "stdout",
     "output_type": "stream",
     "text": [
      "ppl\n"
     ]
    }
   ],
   "source": [
    "str = \"apple\"\n",
    "print(str[-4:-1])"
   ]
  },
  {
   "cell_type": "code",
   "execution_count": 159,
   "metadata": {},
   "outputs": [
    {
     "name": "stdout",
     "output_type": "stream",
     "text": [
      "False\n"
     ]
    }
   ],
   "source": [
    "str = \" i am studing from saylani\"\n",
    "print(str.endswith(\"say\"))"
   ]
  },
  {
   "cell_type": "code",
   "execution_count": 2,
   "metadata": {},
   "outputs": [
    {
     "name": "stdout",
     "output_type": "stream",
     "text": [
      "I am studing from saylani\n"
     ]
    }
   ],
   "source": [
    "str = \"i am studing from saylani\"\n",
    "print(str.capitalize())"
   ]
  },
  {
   "cell_type": "code",
   "execution_count": 3,
   "metadata": {},
   "outputs": [
    {
     "name": "stdout",
     "output_type": "stream",
     "text": [
      "I am studing from saylani\n"
     ]
    }
   ],
   "source": [
    "str = \"i am studing from saylani\"\n",
    "str = str . capitalize()\n",
    "print(str)"
   ]
  },
  {
   "cell_type": "code",
   "execution_count": 4,
   "metadata": {},
   "outputs": [
    {
     "name": "stdout",
     "output_type": "stream",
     "text": [
      "i om studing from soyloni\n"
     ]
    }
   ],
   "source": [
    "str = \"i am studing from saylani\"\n",
    "print(str.replace(\"a\",\"o\"))"
   ]
  },
  {
   "cell_type": "code",
   "execution_count": 6,
   "metadata": {},
   "outputs": [
    {
     "name": "stdout",
     "output_type": "stream",
     "text": [
      "13\n"
     ]
    }
   ],
   "source": [
    "str = \"i am studing from saylani\"\n",
    "print(str.find(\"from\"))"
   ]
  },
  {
   "cell_type": "code",
   "execution_count": 7,
   "metadata": {},
   "outputs": [
    {
     "name": "stdout",
     "output_type": "stream",
     "text": [
      "1\n"
     ]
    }
   ],
   "source": [
    "str = \"i am studing from saylani\"\n",
    "print(str.count(\"from\"))"
   ]
  },
  {
   "cell_type": "code",
   "execution_count": 1,
   "metadata": {},
   "outputs": [
    {
     "name": "stdout",
     "output_type": "stream",
     "text": [
      "length of your name is 10\n"
     ]
    }
   ],
   "source": [
    "name = input(\"enter your name : \")\n",
    "print(\"length of your name is\",len(name))"
   ]
  },
  {
   "cell_type": "code",
   "execution_count": 10,
   "metadata": {},
   "outputs": [
    {
     "name": "stdout",
     "output_type": "stream",
     "text": [
      "3\n"
     ]
    }
   ],
   "source": [
    "str = \"hi, $Iam the $ symbol $99.99\"\n",
    "print(str.count(\"$\"))"
   ]
  },
  {
   "cell_type": "code",
   "execution_count": 12,
   "metadata": {},
   "outputs": [
    {
     "name": "stdout",
     "output_type": "stream",
     "text": [
      "error\n"
     ]
    }
   ],
   "source": [
    "light = (input(\"enter your colour: \"))\n",
    "if light == (\"red\"):\n",
    "    print(\"stop\")\n",
    "elif light == (\"yellow\"):\n",
    "    print(\"wait\")\n",
    "elif light == (\"green\"):\n",
    "    print(\"go\")\n",
    "else:\n",
    "    print(\"error\")"
   ]
  },
  {
   "cell_type": "code",
   "execution_count": 34,
   "metadata": {},
   "outputs": [
    {
     "name": "stdout",
     "output_type": "stream",
     "text": [
      "cannot vote\n"
     ]
    }
   ],
   "source": [
    "age = int(input(\"enter your age: \"))\n",
    "if (age <= 20):\n",
    "    print(\"cannot vote\")\n",
    "elif (age == 30):\n",
    "    print(\"can vote\")\n",
    "elif (age >= 70):\n",
    "    print(\"cannot vote\")\n",
    "else:\n",
    "    print(\"error\")"
   ]
  },
  {
   "cell_type": "code",
   "execution_count": 21,
   "metadata": {},
   "outputs": [
    {
     "name": "stdout",
     "output_type": "stream",
     "text": [
      "A\n",
      "grade of student is  90\n"
     ]
    }
   ],
   "source": [
    "grade = int(input(\"enter your grades: \"))\n",
    "if grade >= 90:\n",
    "    print(\"A\")\n",
    "elif grade < 90 and grade >=80:\n",
    "    print(\"B\")\n",
    "elif grade <80 and grade >= 70:\n",
    "    print(\"C\")\n",
    "elif grade <= 70 and grade >=60:\n",
    "    print(\"D\")\n",
    "else:\n",
    "    print(\"f\")\n",
    "print(\"grade of student is \",grade)\n"
   ]
  },
  {
   "cell_type": "code",
   "execution_count": 27,
   "metadata": {},
   "outputs": [
    {
     "name": "stdout",
     "output_type": "stream",
     "text": [
      "can drive\n"
     ]
    }
   ],
   "source": [
    "age = int(input(\"enter your age: \"))\n",
    "if age >= 18:\n",
    "    if age>= 80:\n",
    "        print(\"cannot drive\")\n",
    "    else:\n",
    "        print(\"can drive\")\n",
    "else:\n",
    "    print(\"cannot drive\")"
   ]
  },
  {
   "cell_type": "code",
   "execution_count": 6,
   "metadata": {},
   "outputs": [
    {
     "name": "stdout",
     "output_type": "stream",
     "text": [
      "5\n",
      "95.1\n",
      "80.1\n"
     ]
    }
   ],
   "source": [
    "marks = [95.1,90.1,85.1,80.1,75.1]\n",
    "print(len(marks))\n",
    "print(marks[0])\n",
    "print(marks[3])"
   ]
  },
  {
   "cell_type": "code",
   "execution_count": 9,
   "metadata": {},
   "outputs": [
    {
     "name": "stdout",
     "output_type": "stream",
     "text": [
      "['Ibrahim', 95.1, 18, 'karachi']\n"
     ]
    }
   ],
   "source": [
    "student = [\"Ibrahim\",95.1,18,\"karachi\"]\n",
    "print(student)"
   ]
  },
  {
   "cell_type": "code",
   "execution_count": 18,
   "metadata": {},
   "outputs": [
    {
     "name": "stdout",
     "output_type": "stream",
     "text": [
      "karachi\n",
      "['miharbi', 95.1, 18, 'karachi']\n"
     ]
    }
   ],
   "source": [
    "student = [\"Ibrahim\",95.1,18,\"karachi\"]\n",
    "print(student[3])\n",
    "student[0] = \"miharbi\"\n",
    "print(student)"
   ]
  },
  {
   "cell_type": "code",
   "execution_count": 27,
   "metadata": {},
   "outputs": [
    {
     "name": "stdout",
     "output_type": "stream",
     "text": [
      "[90]\n"
     ]
    }
   ],
   "source": [
    "marks = [95,90,85,80,75]\n",
    "print(marks[-4: -3])"
   ]
  },
  {
   "cell_type": "code",
   "execution_count": 1,
   "metadata": {},
   "outputs": [
    {
     "name": "stdout",
     "output_type": "stream",
     "text": [
      "[95, 90, 85]\n"
     ]
    }
   ],
   "source": [
    "marks = [95,90,85,80,75]\n",
    "print(marks[0:3])"
   ]
  },
  {
   "cell_type": "code",
   "execution_count": 31,
   "metadata": {},
   "outputs": [
    {
     "name": "stdout",
     "output_type": "stream",
     "text": [
      "[2, 3, 1, 5]\n"
     ]
    }
   ],
   "source": [
    "list = [2,3,1]\n",
    "list.append(5)\n",
    "print(list)"
   ]
  },
  {
   "cell_type": "code",
   "execution_count": 2,
   "metadata": {},
   "outputs": [
    {
     "name": "stdout",
     "output_type": "stream",
     "text": [
      "[6, 7, 8, 9]\n"
     ]
    }
   ],
   "source": [
    "list = [7,6,8,9]\n",
    "list.sort()\n",
    "print(list)"
   ]
  },
  {
   "cell_type": "code",
   "execution_count": 6,
   "metadata": {},
   "outputs": [
    {
     "name": "stdout",
     "output_type": "stream",
     "text": [
      "[14, 9, 8]\n"
     ]
    }
   ],
   "source": [
    "list = [8,9,14]\n",
    "list. sort (reverse = True)\n",
    "print(list)"
   ]
  },
  {
   "cell_type": "code",
   "execution_count": 2,
   "metadata": {},
   "outputs": [
    {
     "name": "stdout",
     "output_type": "stream",
     "text": [
      "None\n",
      "None\n",
      "[3, 4, 5, 6, 7, 9]\n"
     ]
    }
   ],
   "source": [
    "list = [7,6,9,3,5]\n",
    "print(list.append(4))\n",
    "print(list.sort())\n",
    "print(list)"
   ]
  },
  {
   "cell_type": "code",
   "execution_count": 3,
   "metadata": {},
   "outputs": [
    {
     "name": "stdout",
     "output_type": "stream",
     "text": [
      "None\n",
      "None\n",
      "[9, 7, 6, 5, 4, 3]\n"
     ]
    }
   ],
   "source": [
    "list = [7,6,9,3,5]\n",
    "print(list.append(4))\n",
    "print(list.sort(reverse = True))\n",
    "print(list)"
   ]
  },
  {
   "cell_type": "code",
   "execution_count": 7,
   "metadata": {},
   "outputs": [
    {
     "name": "stdout",
     "output_type": "stream",
     "text": [
      "['banana', 'litchi', 'mango']\n"
     ]
    }
   ],
   "source": [
    "list = [\"banana\",\"litchi\",\"mango\"]\n",
    "list.sort()\n",
    "print(list)"
   ]
  },
  {
   "cell_type": "code",
   "execution_count": 8,
   "metadata": {},
   "outputs": [
    {
     "name": "stdout",
     "output_type": "stream",
     "text": [
      "['h', 'e', 'd', 'c', 'b', 'a']\n"
     ]
    }
   ],
   "source": [
    "list= [\"a\",\"h\",\"b\",\"d\",\"c\",\"e\"]\n",
    "list.sort(reverse=True)\n",
    "print(list)"
   ]
  },
  {
   "cell_type": "code",
   "execution_count": 10,
   "metadata": {},
   "outputs": [
    {
     "name": "stdout",
     "output_type": "stream",
     "text": [
      "[3, 2, 1, 0]\n"
     ]
    }
   ],
   "source": [
    "list = [3,2,1]\n",
    "list.insert(3,0)\n",
    "print(list)"
   ]
  },
  {
   "cell_type": "code",
   "execution_count": 12,
   "metadata": {},
   "outputs": [
    {
     "name": "stdout",
     "output_type": "stream",
     "text": [
      "[3, 2, 1]\n"
     ]
    }
   ],
   "source": [
    "list = [4,3,2,1]\n",
    "list.remove(4)\n",
    "print(list)"
   ]
  },
  {
   "cell_type": "code",
   "execution_count": 13,
   "metadata": {},
   "outputs": [
    {
     "name": "stdout",
     "output_type": "stream",
     "text": [
      "[1, 7]\n"
     ]
    }
   ],
   "source": [
    "list = [1,7,8]\n",
    "list.pop(2)\n",
    "print(list)"
   ]
  },
  {
   "cell_type": "code",
   "execution_count": 13,
   "metadata": {},
   "outputs": [
    {
     "name": "stdout",
     "output_type": "stream",
     "text": [
      "2\n",
      "1\n",
      "<class 'tuple'>\n"
     ]
    }
   ],
   "source": [
    "tuple = (2,1,3,1)\n",
    "print(tuple[0])\n",
    "print(tuple[1])\n",
    "print(type(tuple))"
   ]
  },
  {
   "cell_type": "code",
   "execution_count": 12,
   "metadata": {},
   "outputs": [
    {
     "name": "stdout",
     "output_type": "stream",
     "text": [
      "(1,)\n",
      "<class 'tuple'>\n"
     ]
    }
   ],
   "source": [
    "tup = (1,)\n",
    "print(tup)\n",
    "print(type(tup))"
   ]
  },
  {
   "cell_type": "code",
   "execution_count": 14,
   "metadata": {},
   "outputs": [
    {
     "name": "stdout",
     "output_type": "stream",
     "text": [
      "(3, 2)\n"
     ]
    }
   ],
   "source": [
    "tup = (1,3,2,4)\n",
    "print(tup[1:3])"
   ]
  },
  {
   "cell_type": "code",
   "execution_count": 18,
   "metadata": {},
   "outputs": [
    {
     "name": "stdout",
     "output_type": "stream",
     "text": [
      "2\n"
     ]
    }
   ],
   "source": [
    "tup = (1,2,3,4)\n",
    "print(tup.index(3))"
   ]
  },
  {
   "cell_type": "code",
   "execution_count": 19,
   "metadata": {},
   "outputs": [
    {
     "name": "stdout",
     "output_type": "stream",
     "text": [
      "3\n"
     ]
    }
   ],
   "source": [
    "tup = (1,2,3,2,4,2)\n",
    "print(tup.count(2))"
   ]
  },
  {
   "cell_type": "code",
   "execution_count": 22,
   "metadata": {},
   "outputs": [
    {
     "name": "stdout",
     "output_type": "stream",
     "text": [
      "['blue', 'red', 'green']\n"
     ]
    }
   ],
   "source": [
    "movie = []\n",
    "mov1 = input(\"enter your first mov: \")\n",
    "mov2 = input(\"enter your sec mov: \")\n",
    "mov3 = input(\"enter your thr mov: \")\n",
    "movie.append(mov1)\n",
    "movie.append(mov2)\n",
    "movie.append(mov3)\n",
    "print(movie)"
   ]
  },
  {
   "cell_type": "code",
   "execution_count": 23,
   "metadata": {},
   "outputs": [
    {
     "name": "stdout",
     "output_type": "stream",
     "text": [
      "['red', 'blue', 'green']\n"
     ]
    }
   ],
   "source": [
    "movie = []\n",
    "movie.append(input(\"enter your first mov: \"))\n",
    "movie.append(input(\"enter your sec mov: \"))\n",
    "movie.append(input(\"enter your thr mov: \"))\n",
    "print(movie)"
   ]
  },
  {
   "cell_type": "code",
   "execution_count": 24,
   "metadata": {},
   "outputs": [
    {
     "name": "stdout",
     "output_type": "stream",
     "text": [
      "['c', 'd', 'e']\n"
     ]
    }
   ],
   "source": [
    "grade = [\"c\",\"d\",\"e\"]\n",
    "grade.sort()\n",
    "print(grade)"
   ]
  },
  {
   "cell_type": "code",
   "execution_count": 3,
   "metadata": {},
   "outputs": [
    {
     "name": "stdout",
     "output_type": "stream",
     "text": [
      "<class 'dict'>\n",
      "{'name': 'IBRAHIM', 'topic': ('dict', 'set'), 'age': 18, 'sub': ['python']}\n"
     ]
    }
   ],
   "source": [
    "INFO = {\n",
    "    \"name\" : \"IBRAHIM\",\n",
    "    \"topic\":  (\"dict\",\"set\"),\n",
    "    \"age\"  :  18,\n",
    "    \"sub\"  : [\"python\"],\n",
    "}\n",
    "print(type(INFO))\n",
    "print(INFO)"
   ]
  },
  {
   "cell_type": "code",
   "execution_count": 11,
   "metadata": {},
   "outputs": [
    {
     "name": "stdout",
     "output_type": "stream",
     "text": [
      "{'name': 'syed', 'topic': ('dict', 'set'), 'age': 18, 'sub': ['python'], 'surname': 'ibrahim'}\n",
      "{'name': 'FRIDAY'}\n"
     ]
    }
   ],
   "source": [
    "dict = {\n",
    "    \"name\" : \"IBRAHIM\",\n",
    "    \"topic\":  (\"dict\",\"set\"),\n",
    "    \"age\"  :  18,\n",
    "    \"sub\"  : [\"python\"],\n",
    "}\n",
    "null_dict = {}\n",
    "null_dict [\"name\"] = \"FRIDAY\"\n",
    "dict [\"name\"] = \"syed\"\n",
    "dict [\"surname\"] = \"ibrahim\"\n",
    "print(dict)\n",
    "print(null_dict)\n",
    "\n"
   ]
  },
  {
   "cell_type": "code",
   "execution_count": 14,
   "metadata": {},
   "outputs": [
    {
     "name": "stdout",
     "output_type": "stream",
     "text": [
      "{'name': 'ibm', 'age': 18, 'sub': {'phy': 90, 'bio': 87, 'chem': 86}}\n",
      "86\n"
     ]
    }
   ],
   "source": [
    "student = {\n",
    "    \"name\" : \"ibm\",\n",
    "    \"age\"  :  18,\n",
    "    \"sub\"  :  {\n",
    "        \"phy\" : 90,\n",
    "        \"bio\" : 87,\n",
    "        \"chem\" : 86\n",
    "    }\n",
    "}\n",
    "print(student)\n",
    "print(student[\"sub\"][\"chem\"])"
   ]
  },
  {
   "cell_type": "code",
   "execution_count": 24,
   "metadata": {},
   "outputs": [
    {
     "name": "stdout",
     "output_type": "stream",
     "text": [
      "dict_keys(['name', 'age', 'songs'])\n",
      "3\n"
     ]
    }
   ],
   "source": [
    "dict = {\n",
    "    \"name\" : \"Ibm\",\n",
    "    \"age\" : 18,\n",
    "    \"songs\" : {\n",
    "        \"yyhs\" : \"blue eyes\",\n",
    "        \"shubh\" : \"you and me\",\n",
    "        \"arijit\" : \"ve kamleya\"    \n",
    "    }\n",
    "}\n",
    "print(dict.keys())\n",
    "print(len(list(dict.keys())))"
   ]
  },
  {
   "cell_type": "code",
   "execution_count": 26,
   "metadata": {},
   "outputs": [
    {
     "name": "stdout",
     "output_type": "stream",
     "text": [
      "dict_keys(['name', 'age', 'songs'])\n",
      "['Ibm', 18, {'yyhs': 'blue eyes', 'shubh': 'you and me', 'arijit': 've kamleya'}]\n"
     ]
    }
   ],
   "source": [
    "dict = {\n",
    "    \"name\" : \"Ibm\",\n",
    "    \"age\" : 18,\n",
    "    \"songs\" : {\n",
    "        \"yyhs\" : \"blue eyes\",\n",
    "        \"shubh\" : \"you and me\",\n",
    "        \"arijit\" : \"ve kamleya\"    \n",
    "    }\n",
    "}\n",
    "print(dict.keys())\n",
    "print(list(dict.values()))"
   ]
  },
  {
   "cell_type": "code",
   "execution_count": 30,
   "metadata": {},
   "outputs": [
    {
     "name": "stdout",
     "output_type": "stream",
     "text": [
      "[('name', 'Ibm'), ('age', 18), ('songs', {'yyhs': 'blue eyes', 'shubh': 'you and me', 'arijit': 've kamleya'})]\n",
      "('age', 18)\n"
     ]
    }
   ],
   "source": [
    "dict = {\n",
    "    \"name\" : \"Ibm\",\n",
    "    \"age\" : 18,\n",
    "    \"songs\" : {\n",
    "        \"yyhs\" : \"blue eyes\",\n",
    "        \"shubh\" : \"you and me\",\n",
    "        \"arijit\" : \"ve kamleya\"    \n",
    "    }\n",
    "}\n",
    "print(list(dict.items()))\n",
    "pairs = list(dict.items())\n",
    "print(pairs[1])"
   ]
  },
  {
   "cell_type": "code",
   "execution_count": 34,
   "metadata": {},
   "outputs": [
    {
     "name": "stdout",
     "output_type": "stream",
     "text": [
      "None\n"
     ]
    }
   ],
   "source": [
    "student = {\n",
    "    \"name\" : \"ibm\",\n",
    "    \"age\"  :  18,\n",
    "    \"sub\"  :  {\n",
    "        \"phy\" : 90,\n",
    "        \"bio\" : 87,\n",
    "        \"chem\" : 86\n",
    "    }\n",
    "}\n",
    "# print(student[\"name2\"])\n",
    "print(student.get(\"name2\"))"
   ]
  },
  {
   "cell_type": "code",
   "execution_count": 37,
   "metadata": {},
   "outputs": [
    {
     "name": "stdout",
     "output_type": "stream",
     "text": [
      "{'name': 'ibm', 'age': 18, 'sub': {'phy': 90, 'bio': 87, 'chem': 86}, 'city': 'karachi'}\n"
     ]
    }
   ],
   "source": [
    "student = {\n",
    "    \"name\" : \"ibm\",\n",
    "    \"age\"  :  18,\n",
    "    \"sub\"  :  {\n",
    "        \"phy\" : 90,\n",
    "        \"bio\" : 87,\n",
    "        \"chem\" : 86\n",
    "    }\n",
    "}\n",
    "new_dict = {\"city\" : \"karachi\"}\n",
    "student.update(new_dict)\n",
    "print(student)"
   ]
  },
  {
   "cell_type": "code",
   "execution_count": 41,
   "metadata": {},
   "outputs": [
    {
     "name": "stdout",
     "output_type": "stream",
     "text": [
      "<class 'set'>\n",
      "5\n"
     ]
    }
   ],
   "source": [
    "collection = {1,2,3,4,4,4,4,\"world\",\"world\"}\n",
    "print(type(collection))\n",
    "print(len(collection))"
   ]
  },
  {
   "cell_type": "code",
   "execution_count": 43,
   "metadata": {},
   "outputs": [
    {
     "name": "stdout",
     "output_type": "stream",
     "text": [
      "<class 'set'>\n"
     ]
    }
   ],
   "source": [
    "collection = set()\n",
    "print(type(collection))"
   ]
  },
  {
   "cell_type": "code",
   "execution_count": 53,
   "metadata": {},
   "outputs": [
    {
     "name": "stdout",
     "output_type": "stream",
     "text": [
      "0\n"
     ]
    }
   ],
   "source": [
    "collection = set()\n",
    "collection.add(1)\n",
    "collection.add(2)\n",
    "collection.add(2)\n",
    "collection.remove(1)\n",
    "collection.add((1,2,3))\n",
    "collection.clear()\n",
    "print(len(collection))"
   ]
  },
  {
   "cell_type": "code",
   "execution_count": 55,
   "metadata": {},
   "outputs": [
    {
     "name": "stdout",
     "output_type": "stream",
     "text": [
      "world\n",
      "ibrahim\n"
     ]
    }
   ],
   "source": [
    "collection = {\"hello\",\"ibrahim\",\"world\"}\n",
    "print(collection.pop())\n",
    "print(collection.pop())"
   ]
  },
  {
   "cell_type": "code",
   "execution_count": 56,
   "metadata": {},
   "outputs": [
    {
     "name": "stdout",
     "output_type": "stream",
     "text": [
      "{1, 2, 3, 4, 5}\n"
     ]
    }
   ],
   "source": [
    "set1 = {1,2,3}\n",
    "set2 = {4,5}\n",
    "print(set1.union(set2))"
   ]
  },
  {
   "cell_type": "code",
   "execution_count": 57,
   "metadata": {},
   "outputs": [
    {
     "name": "stdout",
     "output_type": "stream",
     "text": [
      "{1, 2}\n"
     ]
    }
   ],
   "source": [
    "set1 = {1,2,2}\n",
    "set2 = {1,3,2}\n",
    "print(set1.intersection(set2))"
   ]
  },
  {
   "cell_type": "code",
   "execution_count": 70,
   "metadata": {},
   "outputs": [
    {
     "name": "stdout",
     "output_type": "stream",
     "text": [
      "5\n",
      "4\n",
      "3\n",
      "2\n",
      "1\n",
      "loop end\n"
     ]
    }
   ],
   "source": [
    "count = 1\n",
    "while count<=10 :\n",
    "    print(\"hello\")\n",
    "    count += 1\n",
    "\n",
    "\n",
    "i = 1\n",
    "while i <= 10:\n",
    "    print(\"world\")\n",
    "    i += 1\n",
    "i = 5\n",
    "while i >=1:\n",
    "    print(i)\n",
    "    i -= 1\n",
    "print(\"loop end\")"
   ]
  },
  {
   "cell_type": "code",
   "execution_count": null,
   "metadata": {},
   "outputs": [],
   "source": []
  },
  {
   "cell_type": "code",
   "execution_count": null,
   "metadata": {},
   "outputs": [],
   "source": []
  },
  {
   "cell_type": "code",
   "execution_count": null,
   "metadata": {},
   "outputs": [],
   "source": []
  },
  {
   "cell_type": "code",
   "execution_count": null,
   "metadata": {},
   "outputs": [],
   "source": []
  },
  {
   "cell_type": "code",
   "execution_count": null,
   "metadata": {},
   "outputs": [],
   "source": []
  },
  {
   "cell_type": "code",
   "execution_count": null,
   "metadata": {},
   "outputs": [],
   "source": []
  }
 ],
 "metadata": {
  "kernelspec": {
   "display_name": "Python 3",
   "language": "python",
   "name": "python3"
  },
  "language_info": {
   "codemirror_mode": {
    "name": "ipython",
    "version": 3
   },
   "file_extension": ".py",
   "mimetype": "text/x-python",
   "name": "python",
   "nbconvert_exporter": "python",
   "pygments_lexer": "ipython3",
   "version": "3.12.4"
  }
 },
 "nbformat": 4,
 "nbformat_minor": 2
}
