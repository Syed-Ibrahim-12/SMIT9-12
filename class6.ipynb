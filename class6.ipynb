{
 "cells": [
  {
   "cell_type": "code",
   "execution_count": 122,
   "metadata": {},
   "outputs": [
    {
     "name": "stdout",
     "output_type": "stream",
     "text": [
      "Hello\n"
     ]
    }
   ],
   "source": [
    "print(\"Hello\")"
   ]
  },
  {
   "cell_type": "code",
   "execution_count": 123,
   "metadata": {},
   "outputs": [
    {
     "name": "stdout",
     "output_type": "stream",
     "text": [
      "\n"
     ]
    }
   ],
   "source": [
    "# Creating a dictionary\n",
    "my_dict = {\n",
    "    'name': 'syc',\n",
    "    'age': 18,\n",
    "    'city': 'aus'\n",
    "}\n",
    "print ()\n"
   ]
  },
  {
   "cell_type": "code",
   "execution_count": 124,
   "metadata": {},
   "outputs": [
    {
     "name": "stdout",
     "output_type": "stream",
     "text": [
      "syc\n",
      "18\n"
     ]
    }
   ],
   "source": [
    "# Accessing values\n",
    "print(my_dict['name'])  \n",
    "print(my_dict['age'])   \n"
   ]
  },
  {
   "cell_type": "code",
   "execution_count": 125,
   "metadata": {},
   "outputs": [
    {
     "name": "stdout",
     "output_type": "stream",
     "text": [
      "18\n"
     ]
    }
   ],
   "source": [
    "# Modifying values\n",
    "my_dict['age'] = 18\n",
    "print(my_dict['age'])  \n"
   ]
  },
  {
   "cell_type": "code",
   "execution_count": 126,
   "metadata": {},
   "outputs": [
    {
     "name": "stdout",
     "output_type": "stream",
     "text": [
      "{'name': 'syc', 'age': 18, 'city': 'aus', 'million': 'billion'}\n"
     ]
    }
   ],
   "source": [
    "# Adding new key-value pair\n",
    "my_dict['million'] = 'billion'\n",
    "print(my_dict)\n",
    "\n"
   ]
  },
  {
   "cell_type": "code",
   "execution_count": 127,
   "metadata": {},
   "outputs": [
    {
     "name": "stdout",
     "output_type": "stream",
     "text": [
      "dict_keys(['name', 'age', 'city', 'million'])\n",
      "dict_values(['syc', 18, 'aus', 'billion'])\n",
      "dict_items([('name', 'syc'), ('age', 18), ('city', 'aus'), ('million', 'billion')])\n"
     ]
    }
   ],
   "source": [
    "# Using dictionary methods\n",
    "print(my_dict.keys())    \n",
    "print(my_dict.values())\n",
    "print(my_dict.items())   \n"
   ]
  },
  {
   "cell_type": "code",
   "execution_count": 1,
   "metadata": {},
   "outputs": [
    {
     "name": "stdout",
     "output_type": "stream",
     "text": [
      "<class 'dict'>\n"
     ]
    }
   ],
   "source": [
    "personal_bio = {\"first_name\": \" ibrahim\"\n",
    "                \"last_name\" \"shah\"\n",
    "                \"address\" \"karaci, multan\"\n",
    "                }\n",
    "print(type(personal_bio))"
   ]
  },
  {
   "cell_type": "code",
   "execution_count": 129,
   "metadata": {},
   "outputs": [
    {
     "name": "stdout",
     "output_type": "stream",
     "text": [
      "key: personal_bio, value: some_value\n"
     ]
    }
   ],
   "source": [
    "bio_list = {'personal_bio': 'some_value'}\n",
    "\n",
    "# Iterate over the items of bio_list\n",
    "for key, value in bio_list.items():\n",
    "    print(f\"key: {key}, value: {value}\")\n"
   ]
  },
  {
   "cell_type": "code",
   "execution_count": 130,
   "metadata": {},
   "outputs": [],
   "source": [
    "bio_list = {'personal_bio': ''}\n",
    "customer = 'apple,banana'\n"
   ]
  },
  {
   "cell_type": "code",
   "execution_count": 131,
   "metadata": {},
   "outputs": [],
   "source": [
    "bio_list = {'personal_bio': ''}\n",
    "customer = ['apple', 'banana']\n"
   ]
  },
  {
   "cell_type": "code",
   "execution_count": 132,
   "metadata": {},
   "outputs": [
    {
     "name": "stdout",
     "output_type": "stream",
     "text": [
      "lahore\n",
      "lahore\n",
      "karachi\n",
      "karachi\n"
     ]
    }
   ],
   "source": [
    "cities = ['lahore', 'karachi']\n",
    "\n",
    "for city in cities:\n",
    "    print(city)\n",
    "    print(city)\n"
   ]
  },
  {
   "cell_type": "code",
   "execution_count": 133,
   "metadata": {},
   "outputs": [],
   "source": [
    "costumer_dic = personal_bio\n",
    "list= (personal_bio)\n",
    "list = \"apple , banana , grapes,  hat\""
   ]
  },
  {
   "cell_type": "code",
   "execution_count": 134,
   "metadata": {},
   "outputs": [
    {
     "name": "stdout",
     "output_type": "stream",
     "text": [
      "first_name, last_name,address\n"
     ]
    }
   ],
   "source": [
    "first_name = 'ibrahim'\n",
    "last_name = 'syc'\n",
    "address = 'aus'\n",
    "print(\"first_name, last_name,address\")"
   ]
  },
  {
   "cell_type": "code",
   "execution_count": 135,
   "metadata": {},
   "outputs": [
    {
     "name": "stdout",
     "output_type": "stream",
     "text": [
      "Customer email: customer1@example.com\n",
      "Customer email: customer2@example.com\n",
      "Customer email: customer3@example.com\n"
     ]
    }
   ],
   "source": [
    "customer_dict = {\n",
    "    'customer1': {'email': 'customer1@example.com'},\n",
    "    'customer2': {'email': 'customer2@example.com'},\n",
    "    'customer3': {'email': 'customer3@example.com'}\n",
    "}\n",
    "\n",
    "for customer, details in customer_dict.items():\n",
    "    email = details['email']\n",
    "    print(f\"Customer email: {email}\")\n"
   ]
  },
  {
   "cell_type": "code",
   "execution_count": 136,
   "metadata": {},
   "outputs": [],
   "source": [
    "customers = {\n",
    "    'customer1': {\n",
    "        'name': 'ibrahim',\n",
    "        'age': 18,\n",
    "        'email': 'syc@example.com',\n",
    "        'address': '123 Main St, Anytown, aus'\n",
    "    },\n",
    "    'customer2': {\n",
    "        'name': 'ibrahim',\n",
    "        'age': 18,\n",
    "        'email': 'syc@example.com',\n",
    "        'address': '456 Elm St, Newtown, aus'\n",
    "    },\n",
    "    'customer3': {\n",
    "        'name': 'ibrahim',\n",
    "        'age': 18,\n",
    "        'email': 'syc@example.com',\n",
    "        'address': '789 Oak Ave, Othertown, aus'\n",
    "    },\n",
    "    'customer4': {\n",
    "        'name': 'ibrahm',\n",
    "        'age': 18,\n",
    "        'email': 'syc@example.com',\n",
    "        'address': '321 Cedar rd, multan, aus'\n",
    "    }\n",
    "}\n"
   ]
  },
  {
   "cell_type": "code",
   "execution_count": 137,
   "metadata": {},
   "outputs": [
    {
     "name": "stdout",
     "output_type": "stream",
     "text": [
      "ibrahim\n",
      "syc@example.com\n"
     ]
    }
   ],
   "source": [
    "print(customers['customer1']['name'])   \n",
    "print(customers['customer2']['email'])  \n"
   ]
  },
  {
   "cell_type": "code",
   "execution_count": 138,
   "metadata": {},
   "outputs": [
    {
     "name": "stdout",
     "output_type": "stream",
     "text": [
      "key is: ibrahim\n",
      "value is: {'address': '123 Main St', 'age': 18}\n",
      "address of ibrahim is 123 Main St\n",
      "-----\n",
      "key is: syc\n",
      "value is: {'address': '456 Elm St', 'age': 18}\n",
      "address of syc is 456 Elm St\n",
      "-----\n",
      "****** Loop ends ******\n"
     ]
    }
   ],
   "source": [
    "# Assuming customers is your dictionary\n",
    "customers = {\n",
    "    'ibrahim': {'address': '123 Main St', 'age': 18},\n",
    "    'syc': {'address': '456 Elm St', 'age': 18}\n",
    "}\n",
    "\n",
    "for key, value in customers.items():\n",
    "    print(f'key is: {key}')\n",
    "    print(f'value is: {value}')\n",
    "    print(f'address of {key} is {value[\"address\"]}')  # Accessing address correctly\n",
    "    print(\"-----\")\n",
    "\n",
    "print(\"****** Loop ends ******\")\n"
   ]
  },
  {
   "cell_type": "code",
   "execution_count": 139,
   "metadata": {},
   "outputs": [],
   "source": [
    "saylani = {\"python\": {\"timings\" : \"mwf\",\n",
    "                        \"instructer\": \"ayan\"},\n",
    "                \"data engneering\": { \"timing\" : \"tts\",\n",
    "                                 \"instructer\": \"ibrahim\"}}"
   ]
  },
  {
   "cell_type": "code",
   "execution_count": 140,
   "metadata": {},
   "outputs": [],
   "source": [
    "# print()\n",
    "# type()\n",
    "# id()\n",
    "# input ---> function (operation) ---> diserd result (based on operation)"
   ]
  },
  {
   "cell_type": "code",
   "execution_count": 141,
   "metadata": {},
   "outputs": [],
   "source": [
    "def print_func():\n",
    "    print(\"saylani\")"
   ]
  },
  {
   "cell_type": "code",
   "execution_count": 142,
   "metadata": {},
   "outputs": [
    {
     "name": "stdout",
     "output_type": "stream",
     "text": [
      "saylani\n"
     ]
    }
   ],
   "source": [
    "print_func()"
   ]
  },
  {
   "cell_type": "code",
   "execution_count": 143,
   "metadata": {},
   "outputs": [
    {
     "name": "stdout",
     "output_type": "stream",
     "text": [
      "13\n"
     ]
    }
   ],
   "source": [
    "def add(a,b):\n",
    "    total = a+b\n",
    "    print(total)\n",
    "add(4,9)    "
   ]
  },
  {
   "cell_type": "code",
   "execution_count": 144,
   "metadata": {},
   "outputs": [
    {
     "name": "stdout",
     "output_type": "stream",
     "text": [
      "16\n"
     ]
    }
   ],
   "source": [
    "add(7,9)"
   ]
  },
  {
   "cell_type": "code",
   "execution_count": 145,
   "metadata": {},
   "outputs": [],
   "source": [
    "def temp_kelvin(celcius, default_kelvin_value = 273.15):\n",
    "    print(celcius + default_kelvin_value)"
   ]
  },
  {
   "cell_type": "code",
   "execution_count": 146,
   "metadata": {},
   "outputs": [
    {
     "name": "stdout",
     "output_type": "stream",
     "text": [
      "361.15\n"
     ]
    }
   ],
   "source": [
    "temp_kelvin(88)"
   ]
  },
  {
   "cell_type": "code",
   "execution_count": 147,
   "metadata": {},
   "outputs": [
    {
     "name": "stdout",
     "output_type": "stream",
     "text": [
      "-4\n"
     ]
    }
   ],
   "source": [
    "def subtract(a,b):\n",
    "    print(a-b)\n",
    "subtract(2,6)"
   ]
  },
  {
   "cell_type": "code",
   "execution_count": 148,
   "metadata": {},
   "outputs": [],
   "source": [
    "def greetings(first_name, last_name, greetings=\"welcome\"):\n",
    "    print(f'hey, {first_name}{last_name},{greetings}')"
   ]
  },
  {
   "cell_type": "code",
   "execution_count": 149,
   "metadata": {},
   "outputs": [
    {
     "name": "stdout",
     "output_type": "stream",
     "text": [
      "hey, Ibrahimshah,welcome\n"
     ]
    }
   ],
   "source": [
    "greetings(\"Ibrahim\",\"shah\")"
   ]
  },
  {
   "cell_type": "code",
   "execution_count": 150,
   "metadata": {},
   "outputs": [
    {
     "name": "stdout",
     "output_type": "stream",
     "text": [
      "351\n"
     ]
    }
   ],
   "source": [
    "temp_kelvin(78,273)"
   ]
  },
  {
   "cell_type": "code",
   "execution_count": 151,
   "metadata": {},
   "outputs": [
    {
     "name": "stdout",
     "output_type": "stream",
     "text": [
      "4\n"
     ]
    }
   ],
   "source": [
    "str1 = \"syco\"\n",
    "print(len(str1))"
   ]
  },
  {
   "cell_type": "code",
   "execution_count": 152,
   "metadata": {},
   "outputs": [
    {
     "name": "stdout",
     "output_type": "stream",
     "text": [
      "n\n"
     ]
    }
   ],
   "source": [
    "str = \"honeybee\"\n",
    "ch = str [2] \n",
    "print(ch)"
   ]
  },
  {
   "cell_type": "code",
   "execution_count": 153,
   "metadata": {},
   "outputs": [
    {
     "name": "stdout",
     "output_type": "stream",
     "text": [
      "bra\n"
     ]
    }
   ],
   "source": [
    "str = \"ibrahim shah\"\n",
    "print(str[1:4])"
   ]
  },
  {
   "cell_type": "code",
   "execution_count": 154,
   "metadata": {},
   "outputs": [
    {
     "name": "stdout",
     "output_type": "stream",
     "text": [
      "evil\n"
     ]
    }
   ],
   "source": [
    "str = \"sycodevil\"\n",
    "print(str[5:len(str)])"
   ]
  },
  {
   "cell_type": "code",
   "execution_count": 155,
   "metadata": {},
   "outputs": [
    {
     "name": "stdout",
     "output_type": "stream",
     "text": [
      "ppl\n"
     ]
    }
   ],
   "source": [
    "str = \"apple\"\n",
    "print(str[-4:-1])"
   ]
  },
  {
   "cell_type": "code",
   "execution_count": 159,
   "metadata": {},
   "outputs": [
    {
     "name": "stdout",
     "output_type": "stream",
     "text": [
      "False\n"
     ]
    }
   ],
   "source": [
    "str = \" i am studing from saylani\"\n",
    "print(str.endswith(\"say\"))"
   ]
  },
  {
   "cell_type": "code",
   "execution_count": 2,
   "metadata": {},
   "outputs": [
    {
     "name": "stdout",
     "output_type": "stream",
     "text": [
      "I am studing from saylani\n"
     ]
    }
   ],
   "source": [
    "str = \"i am studing from saylani\"\n",
    "print(str.capitalize())"
   ]
  },
  {
   "cell_type": "code",
   "execution_count": 3,
   "metadata": {},
   "outputs": [
    {
     "name": "stdout",
     "output_type": "stream",
     "text": [
      "I am studing from saylani\n"
     ]
    }
   ],
   "source": [
    "str = \"i am studing from saylani\"\n",
    "str = str . capitalize()\n",
    "print(str)"
   ]
  },
  {
   "cell_type": "code",
   "execution_count": 4,
   "metadata": {},
   "outputs": [
    {
     "name": "stdout",
     "output_type": "stream",
     "text": [
      "i om studing from soyloni\n"
     ]
    }
   ],
   "source": [
    "str = \"i am studing from saylani\"\n",
    "print(str.replace(\"a\",\"o\"))"
   ]
  },
  {
   "cell_type": "code",
   "execution_count": 6,
   "metadata": {},
   "outputs": [
    {
     "name": "stdout",
     "output_type": "stream",
     "text": [
      "13\n"
     ]
    }
   ],
   "source": [
    "str = \"i am studing from saylani\"\n",
    "print(str.find(\"from\"))"
   ]
  },
  {
   "cell_type": "code",
   "execution_count": 7,
   "metadata": {},
   "outputs": [
    {
     "name": "stdout",
     "output_type": "stream",
     "text": [
      "1\n"
     ]
    }
   ],
   "source": [
    "str = \"i am studing from saylani\"\n",
    "print(str.count(\"from\"))"
   ]
  },
  {
   "cell_type": "code",
   "execution_count": 8,
   "metadata": {},
   "outputs": [
    {
     "name": "stdout",
     "output_type": "stream",
     "text": [
      "length of your name is 7\n"
     ]
    }
   ],
   "source": [
    "name = input(\"enter your name : \")\n",
    "print(\"length of your name is\",len(name))"
   ]
  },
  {
   "cell_type": "code",
   "execution_count": null,
   "metadata": {},
   "outputs": [],
   "source": [
    "# print(\"Percentage obtained:\", \"{:.2f}%\".format(percentage))"
   ]
  }
 ],
 "metadata": {
  "kernelspec": {
   "display_name": "Python 3",
   "language": "python",
   "name": "python3"
  },
  "language_info": {
   "codemirror_mode": {
    "name": "ipython",
    "version": 3
   },
   "file_extension": ".py",
   "mimetype": "text/x-python",
   "name": "python",
   "nbconvert_exporter": "python",
   "pygments_lexer": "ipython3",
   "version": "3.12.4"
  }
 },
 "nbformat": 4,
 "nbformat_minor": 2
}
