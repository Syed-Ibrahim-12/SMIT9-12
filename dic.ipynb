{
 "cells": [
  {
   "cell_type": "code",
   "execution_count": 37,
   "metadata": {},
   "outputs": [],
   "source": [
    "name = \"IBRAHIM\""
   ]
  },
  {
   "cell_type": "code",
   "execution_count": 38,
   "metadata": {},
   "outputs": [
    {
     "name": "stdout",
     "output_type": "stream",
     "text": [
      "<class 'str'>\n"
     ]
    }
   ],
   "source": [
    "print(type(name))"
   ]
  },
  {
   "cell_type": "code",
   "execution_count": 39,
   "metadata": {},
   "outputs": [],
   "source": [
    "dict = {'f_name':'IBRAHIM','l_name':'shah'}"
   ]
  },
  {
   "cell_type": "code",
   "execution_count": 40,
   "metadata": {},
   "outputs": [
    {
     "name": "stdout",
     "output_type": "stream",
     "text": [
      "<class 'dict'>\n"
     ]
    }
   ],
   "source": [
    "print(type(dict))"
   ]
  },
  {
   "cell_type": "markdown",
   "metadata": {},
   "source": [
    "#### every class in python is actually belong to any class\n",
    "#### every class canbe initialized as object"
   ]
  },
  {
   "cell_type": "code",
   "execution_count": 41,
   "metadata": {},
   "outputs": [
    {
     "data": {
      "text/plain": [
       "dict_keys(['f_name', 'l_name'])"
      ]
     },
     "execution_count": 41,
     "metadata": {},
     "output_type": "execute_result"
    }
   ],
   "source": [
    "dict.keys()"
   ]
  },
  {
   "cell_type": "markdown",
   "metadata": {},
   "source": [
    "#### Every class have some MTHEODS\n",
    "#### Every object initialized have those METHODS that are in class."
   ]
  },
  {
   "cell_type": "code",
   "execution_count": 1,
   "metadata": {},
   "outputs": [],
   "source": [
    "class smit():\n",
    "    pass"
   ]
  },
  {
   "cell_type": "code",
   "execution_count": 2,
   "metadata": {},
   "outputs": [],
   "source": [
    "class smit():\n",
    "\n",
    "    def __init__(self,id_card, f_name, l_name, typee):\n",
    "        self.id_card = id_card\n",
    "        self.first_name = f_name\n",
    "        self.last_name = l_name\n",
    "        self.typee = typee\n",
    "        \n",
    "    def details(self):\n",
    "            print(f\"{self.first_name} {self.last_name} is a {self.typee}  with id {self.id_card}\")\n"
   ]
  },
  {
   "cell_type": "code",
   "execution_count": 3,
   "metadata": {},
   "outputs": [],
   "source": [
    "ibrahim = smit('py-12345','ibrahim','shah','student')"
   ]
  },
  {
   "cell_type": "code",
   "execution_count": 4,
   "metadata": {},
   "outputs": [
    {
     "data": {
      "text/plain": [
       "'py-12345'"
      ]
     },
     "execution_count": 4,
     "metadata": {},
     "output_type": "execute_result"
    }
   ],
   "source": [
    "ibrahim.id_card"
   ]
  },
  {
   "cell_type": "code",
   "execution_count": 46,
   "metadata": {},
   "outputs": [
    {
     "data": {
      "text/plain": [
       "'ibrahim'"
      ]
     },
     "execution_count": 46,
     "metadata": {},
     "output_type": "execute_result"
    }
   ],
   "source": [
    "ibrahim.first_name"
   ]
  },
  {
   "cell_type": "code",
   "execution_count": 47,
   "metadata": {},
   "outputs": [
    {
     "name": "stdout",
     "output_type": "stream",
     "text": [
      "ibrahim shah is a student  with id py-12345\n"
     ]
    }
   ],
   "source": [
    "ibrahim.details()"
   ]
  },
  {
   "cell_type": "code",
   "execution_count": 48,
   "metadata": {},
   "outputs": [
    {
     "data": {
      "text/plain": [
       "'subhan shah is a student  with id py-12345'"
      ]
     },
     "execution_count": 48,
     "metadata": {},
     "output_type": "execute_result"
    }
   ],
   "source": [
    "subhan = smit('py-12345','subhan','shah','student')\n",
    "f\"{subhan.first_name} {subhan.last_name} is a {subhan.typee}  with id {subhan.id_card}\""
   ]
  },
  {
   "cell_type": "code",
   "execution_count": 49,
   "metadata": {},
   "outputs": [
    {
     "name": "stdout",
     "output_type": "stream",
     "text": [
      "subhan shah is a student  with id py-12345\n"
     ]
    }
   ],
   "source": [
    "subhan.details()"
   ]
  },
  {
   "cell_type": "code",
   "execution_count": 50,
   "metadata": {},
   "outputs": [],
   "source": [
    "class BankAccount:\n",
    "    def __init__(self,accountnumber,accountname,balance=0):\n",
    "        self.accountnumber = accountnumber\n",
    "        self.accountname = accountname\n",
    "        self.balance = balance \n",
    "        \n",
    "    def deposit(self,amount):\n",
    "        self.balance += amount\n",
    "        print(\"Your new balance is \",self.balance)\n",
    "        \n",
    "    def withdraw(self,amount):\n",
    "        if amount < 0 :\n",
    "            print(\"Amount must be in positive\")\n",
    "        elif amount > self.balance:\n",
    "            print(\"Insufficent funds\")\n",
    "        else:\n",
    "            self.balance -= amount\n",
    "            print(\"Your new balance is \",self.balance)\n",
    "            \n",
    "    def transfer(self,sending,receipent_account,amount):\n",
    "        if amount>self.balance:\n",
    "            print(\"Insufficient funds\")\n",
    "        else:\n",
    "            sending.withdraw(amount)\n",
    "            receipent_account.deposit(amount)\n",
    "            print(\"Ammount Succesfully transfered\")\n"
   ]
  },
  {
   "cell_type": "code",
   "execution_count": 51,
   "metadata": {},
   "outputs": [],
   "source": [
    "obj1 = BankAccount(12345,\"ibrahim\",99999)"
   ]
  },
  {
   "cell_type": "code",
   "execution_count": 52,
   "metadata": {},
   "outputs": [
    {
     "name": "stdout",
     "output_type": "stream",
     "text": [
      "Your new balance is  102999\n"
     ]
    }
   ],
   "source": [
    "obj1.deposit(3000)"
   ]
  },
  {
   "cell_type": "code",
   "execution_count": 53,
   "metadata": {},
   "outputs": [
    {
     "name": "stdout",
     "output_type": "stream",
     "text": [
      "Your new balance is  96999\n"
     ]
    }
   ],
   "source": [
    "obj1.withdraw(6000)"
   ]
  },
  {
   "cell_type": "code",
   "execution_count": 54,
   "metadata": {},
   "outputs": [],
   "source": [
    "obj2 = BankAccount(123456789,\"Mehdi\",50000)"
   ]
  },
  {
   "cell_type": "code",
   "execution_count": 55,
   "metadata": {},
   "outputs": [
    {
     "name": "stdout",
     "output_type": "stream",
     "text": [
      "Your new balance is  94999\n",
      "Your new balance is  52000\n",
      "Ammount Succesfully transfered\n"
     ]
    }
   ],
   "source": [
    "obj1.transfer(obj1,obj2,2000)"
   ]
  },
  {
   "cell_type": "markdown",
   "metadata": {},
   "source": [
    "# class variables:\n",
    "#### - static variable\n",
    "#### - dynamic variable"
   ]
  },
  {
   "cell_type": "code",
   "execution_count": 56,
   "metadata": {},
   "outputs": [],
   "source": [
    "class smit(): \n",
    "    title = 'Saylani Mass IT Training'\n",
    "    id_card = 0 \n",
    "    \n",
    "    def __init__(self, f_name, l_name, typee): \n",
    "        self.first_name = f_name\n",
    "        self.last_name = l_name\n",
    "        self.typee = typee\n",
    "        smit.id_card +=1\n",
    "   \n",
    "    def details(self): \n",
    "        print(f\"{self.first_name} {self.last_name} is a {self.typee} member with id {self.id_card}\")"
   ]
  },
  {
   "cell_type": "code",
   "execution_count": 57,
   "metadata": {},
   "outputs": [],
   "source": [
    "ibrahim = smit(\"ibrahim\",\"shah\",\"student\")"
   ]
  },
  {
   "cell_type": "code",
   "execution_count": 58,
   "metadata": {},
   "outputs": [
    {
     "data": {
      "text/plain": [
       "1"
      ]
     },
     "execution_count": 58,
     "metadata": {},
     "output_type": "execute_result"
    }
   ],
   "source": [
    "ibrahim.id_card"
   ]
  },
  {
   "cell_type": "code",
   "execution_count": 59,
   "metadata": {},
   "outputs": [],
   "source": [
    "subhan = smit('subhan','shah','staff')"
   ]
  },
  {
   "cell_type": "code",
   "execution_count": 60,
   "metadata": {},
   "outputs": [
    {
     "data": {
      "text/plain": [
       "2"
      ]
     },
     "execution_count": 60,
     "metadata": {},
     "output_type": "execute_result"
    }
   ],
   "source": [
    "subhan.id_card"
   ]
  },
  {
   "cell_type": "markdown",
   "metadata": {},
   "source": [
    "# TASK: use above cat/dog example and Intro some static & dynamic class variables"
   ]
  },
  {
   "cell_type": "code",
   "execution_count": 61,
   "metadata": {},
   "outputs": [],
   "source": [
    "class dog:\n",
    "    def __init__(self,breed,age):\n",
    "        self.breed = breed\n",
    "        self.age = age\n",
    "        "
   ]
  },
  {
   "cell_type": "code",
   "execution_count": 62,
   "metadata": {},
   "outputs": [
    {
     "data": {
      "text/plain": [
       "'18'"
      ]
     },
     "execution_count": 62,
     "metadata": {},
     "output_type": "execute_result"
    }
   ],
   "source": [
    "Dog = dog('bull dog','18')\n",
    "Dog.age\n"
   ]
  },
  {
   "cell_type": "code",
   "execution_count": 63,
   "metadata": {},
   "outputs": [
    {
     "data": {
      "text/plain": [
       "'Bulldog eats biscuits'"
      ]
     },
     "execution_count": 63,
     "metadata": {},
     "output_type": "execute_result"
    }
   ],
   "source": [
    "class Dog():\n",
    "    def __init__(self, breed, age) -> None:\n",
    "        self.breed = breed\n",
    "        self.age = age\n",
    "    def eat(self):\n",
    "        return f\"{self.breed} eats biscuits\" \n",
    "    def sleep(self, hours):\n",
    "        return f\"{self.breed} sleeps for {hours}\"\n",
    "    \n",
    "bulldog = Dog(\"Bulldog\", 4)\n",
    "chihunana = Dog(\"Chinuahua\", 2)\n",
    "husky = Dog(\"Husky\", 5)    \n",
    "bulldog.eat()"
   ]
  },
  {
   "cell_type": "code",
   "execution_count": 64,
   "metadata": {},
   "outputs": [],
   "source": [
    "\n",
    "class Sam_The_Dog:\n",
    "    breed = \"Golden Retriever\"\n",
    "    puppies = 0\n",
    "    def __init__(self,name,age):\n",
    "        self.name = name\n",
    "        self.age = age\n",
    "        Sam_The_Dog.puppies += 1"
   ]
  },
  {
   "cell_type": "code",
   "execution_count": 65,
   "metadata": {},
   "outputs": [],
   "source": [
    "tate = Sam_The_Dog(\"tate\",2)"
   ]
  },
  {
   "cell_type": "code",
   "execution_count": 66,
   "metadata": {},
   "outputs": [],
   "source": [
    "harsh = Sam_The_Dog(\"harsh\",5)"
   ]
  },
  {
   "cell_type": "code",
   "execution_count": 67,
   "metadata": {},
   "outputs": [
    {
     "data": {
      "text/plain": [
       "'Golden Retriever'"
      ]
     },
     "execution_count": 67,
     "metadata": {},
     "output_type": "execute_result"
    }
   ],
   "source": [
    "Sam_The_Dog.breed"
   ]
  },
  {
   "cell_type": "code",
   "execution_count": 68,
   "metadata": {},
   "outputs": [
    {
     "data": {
      "text/plain": [
       "2"
      ]
     },
     "execution_count": 68,
     "metadata": {},
     "output_type": "execute_result"
    }
   ],
   "source": [
    "Sam_The_Dog.puppies"
   ]
  },
  {
   "cell_type": "markdown",
   "metadata": {},
   "source": [
    "#    OOP Stands for Object Oriented Programing\n",
    "#    OOP have four pillar\n",
    "# Inheritance ( getting attributes/methods from parent class)\n",
    "# polymorphism (Same instance behaving differently)\n",
    "# Abstraction (Structure of the code without implementation)\n",
    "# Encapsulation ( hiding of attributes/methods)"
   ]
  },
  {
   "cell_type": "markdown",
   "metadata": {},
   "source": [
    "# private \n",
    "# public\n",
    "# protected"
   ]
  },
  {
   "cell_type": "code",
   "execution_count": 31,
   "metadata": {},
   "outputs": [
    {
     "name": "stdout",
     "output_type": "stream",
     "text": [
      "withdrawn\n",
      "1000.0\n"
     ]
    }
   ],
   "source": [
    "class account():\n",
    "    def __init__(self,amount):\n",
    "        self.__amount = amount\n",
    "    def get_balance(self):\n",
    "        print(f\"your balance is {self.__amount} \")\n",
    "    def deposit(self):\n",
    "        deposit = float (input(\"enter your amount that you want to deposit = \"))\n",
    "        self.__amount += deposit\n",
    "        print(\"deposited\")\n",
    "        print(self.__amount)\n",
    "    def withdraw(self):\n",
    "        withdraw = float(input(\"enter the amount you want to withdraw = \"))\n",
    "        self.__amount = self.__amount - withdraw\n",
    "        print(\"withdrawn\")\n",
    "        print(self.__amount)\n",
    "obj = account(5000)\n",
    "obj.withdraw()"
   ]
  },
  {
   "cell_type": "code",
   "execution_count": 29,
   "metadata": {},
   "outputs": [
    {
     "name": "stdout",
     "output_type": "stream",
     "text": [
      "Account Holder: ayan, Balance: $100.00\n",
      "Deposited: $50.00. New balance: $150.00\n",
      "Withdrew: $30.00. New balance: $120.00\n",
      "Current balance: $120.00\n",
      "Transaction History:\n",
      "Deposited: $50.00\n",
      "Withdrew: $30.00\n"
     ]
    }
   ],
   "source": [
    "class BankAccount:\n",
    "    def __init__(self, account_holder, initial_balance=0):\n",
    "        self.__account_holder = account_holder\n",
    "        self.__balance = initial_balance\n",
    "        self.__transaction_history = []\n",
    "\n",
    "    def deposit(self, amount):\n",
    "        if amount > 0:\n",
    "            self.__balance += amount\n",
    "            self.__transaction_history.append(f\"Deposited: ${amount:.2f}\")\n",
    "            print(f\"Deposited: ${amount:.2f}. New balance: ${self.__balance:.2f}\")\n",
    "        else:\n",
    "            print(\"Deposit amount must be positive.\")\n",
    "\n",
    "    def withdraw(self, amount):\n",
    "        if amount > 0:\n",
    "            if amount <= self.__balance:\n",
    "                self.__balance -= amount\n",
    "                self.__transaction_history.append(f\"Withdrew: ${amount:.2f}\")\n",
    "                print(f\"Withdrew: ${amount:.2f}. New balance: ${self.__balance:.2f}\")\n",
    "            else:\n",
    "                print(\"Insufficient funds.\")\n",
    "        else:\n",
    "            print(\"Withdrawal amount must be positive.\")\n",
    "\n",
    "    def check_balance(self):\n",
    "        return f\"Current balance: ${self.__balance:.2f}\"\n",
    "\n",
    "    def account_details(self):\n",
    "        return f\"Account Holder: {self.__account_holder}, Balance: ${self.__balance:.2f}\"\n",
    "\n",
    "    def transaction_history_report(self):\n",
    "        if not self.__transaction_history:\n",
    "            return \"No transactions made.\"\n",
    "        return \"\\n\".join(self.__transaction_history)\n",
    "\n",
    "\n",
    "if __name__ == \"__main__\":\n",
    "    account = BankAccount(\"ayan\", 100)\n",
    "    print(account.account_details())\n",
    "    account.deposit(50)\n",
    "    account.withdraw(30)\n",
    "    print(account.check_balance())\n",
    "    print(\"Transaction History:\")\n",
    "    print(account.transaction_history_report())"
   ]
  },
  {
   "cell_type": "code",
   "execution_count": 14,
   "metadata": {},
   "outputs": [
    {
     "name": "stdout",
     "output_type": "stream",
     "text": [
      "Calling protected member of base class:  2\n",
      "Calling modified protected member outside class:  3\n",
      "Accessing protected member of obj1:  3\n",
      "Accessing protected member of obj2:  2\n"
     ]
    }
   ],
   "source": [
    "class Base:\n",
    "    def __init__(self):\n",
    "        self._a = 2\n",
    "\n",
    "class Derived(Base):\n",
    "    def __init__(self):\n",
    "        Base.__init__(self)\n",
    "        print(\"Calling protected member of base class: \",self._a)\n",
    "        self._a = 3\n",
    "        print(\"Calling modified protected member outside class: \",self._a)\n",
    "\n",
    "\n",
    "obj1 = Derived()\n",
    "\n",
    "obj2 = Base()\n",
    "\n",
    "print(\"Accessing protected member of obj1: \", obj1._a)\n",
    "print(\"Accessing protected member of obj2: \", obj2._a)"
   ]
  },
  {
   "cell_type": "markdown",
   "metadata": {},
   "source": [
    "# abstraction"
   ]
  },
  {
   "cell_type": "code",
   "execution_count": 12,
   "metadata": {},
   "outputs": [],
   "source": [
    "from abc import ABC"
   ]
  },
  {
   "cell_type": "code",
   "execution_count": 34,
   "metadata": {},
   "outputs": [
    {
     "name": "stdout",
     "output_type": "stream",
     "text": [
      "Choose your payment method:\n",
      "1. Debit Card\n",
      "2. Online Payment\n",
      "Processing online payment...\n"
     ]
    }
   ],
   "source": [
    "from abc import ABC, abstractmethod\n",
    "\n",
    "class Payment(ABC):\n",
    "    @abstractmethod\n",
    "    def payment_process(self):\n",
    "        pass\n",
    "\n",
    "    @classmethod\n",
    "    def get_payment_method(cls):\n",
    "        print(\"Choose your payment method:\")\n",
    "        print(\"1. Debit Card\")\n",
    "        print(\"2. Online Payment\")\n",
    "        choice = int(input(\"Enter your choice (1 or 2): \"))\n",
    "\n",
    "        if choice == 1:\n",
    "            payment_method = DebitCard()\n",
    "        elif choice == 2:\n",
    "            payment_method = OnlinePayment()\n",
    "        else:\n",
    "            print(\"Invalid choice. Please try again.\")\n",
    "            return\n",
    "\n",
    "        payment_method.payment_process()\n",
    "\n",
    "class DebitCard(Payment):\n",
    "    def payment_process(self):\n",
    "        print(\"Processing debit card payment...\")\n",
    "\n",
    "class OnlinePayment(Payment):\n",
    "    def payment_process(self):\n",
    "        print(\"Processing online payment...\")\n",
    "\n",
    "Payment.get_payment_method()\n"
   ]
  },
  {
   "cell_type": "markdown",
   "metadata": {},
   "source": [
    "# polymorphism"
   ]
  },
  {
   "cell_type": "code",
   "execution_count": 15,
   "metadata": {},
   "outputs": [
    {
     "name": "stdout",
     "output_type": "stream",
     "text": [
      "3\n"
     ]
    }
   ],
   "source": [
    "print(len('123'))"
   ]
  },
  {
   "cell_type": "code",
   "execution_count": 16,
   "metadata": {},
   "outputs": [
    {
     "name": "stdout",
     "output_type": "stream",
     "text": [
      "6\n"
     ]
    }
   ],
   "source": [
    "print(len([1,2,3,4,5,6]))"
   ]
  },
  {
   "cell_type": "code",
   "execution_count": 17,
   "metadata": {},
   "outputs": [
    {
     "name": "stdout",
     "output_type": "stream",
     "text": [
      "2\n"
     ]
    }
   ],
   "source": [
    "print(len({'class':\"python\",\"batch\":2024}))"
   ]
  },
  {
   "cell_type": "code",
   "execution_count": 39,
   "metadata": {},
   "outputs": [],
   "source": [
    "class employ:\n",
    "    def tax_deduction(self):\n",
    "        pass \n",
    "class fulltime(employ):\n",
    "    def tax_deduction(self):\n",
    "        print(\"Tax deduction for full-time employee: 15%\")\n",
    "\n",
    "class parttime(employ):\n",
    "    def tax_deduction(self):\n",
    "        print(\"Tax deduction for part-time employee: 10%\")\n",
    "\n",
    "    def salary(employ):\n",
    "        employ.tax_deduction()\n",
    "p_time = parttime\n",
    "f_time = fulltime\n",
    "salary = (p_time)\n",
    "salary = (f_time)\n"
   ]
  }
 ],
 "metadata": {
  "kernelspec": {
   "display_name": "Python 3",
   "language": "python",
   "name": "python3"
  },
  "language_info": {
   "codemirror_mode": {
    "name": "ipython",
    "version": 3
   },
   "file_extension": ".py",
   "mimetype": "text/x-python",
   "name": "python",
   "nbconvert_exporter": "python",
   "pygments_lexer": "ipython3",
   "version": "3.12.4"
  }
 },
 "nbformat": 4,
 "nbformat_minor": 2
}
