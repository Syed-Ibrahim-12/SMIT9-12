{
 "cells": [
  {
   "cell_type": "code",
   "execution_count": 1,
   "metadata": {},
   "outputs": [
    {
     "name": "stdout",
     "output_type": "stream",
     "text": [
      "Hello ibrahim\n"
     ]
    }
   ],
   "source": [
    "print(\"Hello ibrahim\")"
   ]
  },
  {
   "cell_type": "code",
   "execution_count": 2,
   "metadata": {},
   "outputs": [
    {
     "name": "stdout",
     "output_type": "stream",
     "text": [
      "\n"
     ]
    }
   ],
   "source": [
    "\n",
    "my_dict = {\n",
    "    'name': 'syc',\n",
    "    'age': 18,\n",
    "    'city': 'aus'\n",
    "}\n",
    "print ()\n"
   ]
  },
  {
   "cell_type": "code",
   "execution_count": 3,
   "metadata": {},
   "outputs": [
    {
     "name": "stdout",
     "output_type": "stream",
     "text": [
      "syc\n",
      "18\n"
     ]
    }
   ],
   "source": [
    "\n",
    "print(my_dict['name'])  \n",
    "print(my_dict['age'])   \n"
   ]
  },
  {
   "cell_type": "code",
   "execution_count": 4,
   "metadata": {},
   "outputs": [
    {
     "name": "stdout",
     "output_type": "stream",
     "text": [
      "18\n"
     ]
    }
   ],
   "source": [
    "\n",
    "my_dict['age'] = 18\n",
    "print(my_dict['age'])  \n"
   ]
  },
  {
   "cell_type": "code",
   "execution_count": 5,
   "metadata": {},
   "outputs": [
    {
     "name": "stdout",
     "output_type": "stream",
     "text": [
      "{'name': 'syc', 'age': 18, 'city': 'aus', 'million': 'billion'}\n"
     ]
    }
   ],
   "source": [
    "\n",
    "my_dict['million'] = 'billion'\n",
    "print(my_dict)\n",
    "\n"
   ]
  },
  {
   "cell_type": "code",
   "execution_count": 6,
   "metadata": {},
   "outputs": [
    {
     "name": "stdout",
     "output_type": "stream",
     "text": [
      "dict_keys(['name', 'age', 'city', 'million'])\n",
      "dict_values(['syc', 18, 'aus', 'billion'])\n",
      "dict_items([('name', 'syc'), ('age', 18), ('city', 'aus'), ('million', 'billion')])\n"
     ]
    }
   ],
   "source": [
    "\n",
    "print(my_dict.keys())    \n",
    "print(my_dict.values())\n",
    "print(my_dict.items())   \n"
   ]
  },
  {
   "cell_type": "code",
   "execution_count": 7,
   "metadata": {},
   "outputs": [
    {
     "name": "stdout",
     "output_type": "stream",
     "text": [
      "<class 'dict'>\n"
     ]
    }
   ],
   "source": [
    "personal_bio = {\"first_name\": \" ibrahim\"\n",
    "                \"last_name\" \"shah\"\n",
    "                \"address\" \"karaci, multan\"\n",
    "                }\n",
    "print(type(personal_bio))"
   ]
  },
  {
   "cell_type": "code",
   "execution_count": 8,
   "metadata": {},
   "outputs": [
    {
     "name": "stdout",
     "output_type": "stream",
     "text": [
      "key: personal_bio, value: some_value\n"
     ]
    }
   ],
   "source": [
    "bio_list = {'personal_bio': 'some_value'}\n",
    "for key, value in bio_list.items():\n",
    "    print(f\"key: {key}, value: {value}\")\n"
   ]
  },
  {
   "cell_type": "code",
   "execution_count": 9,
   "metadata": {},
   "outputs": [],
   "source": [
    "bio_list = {'personal_bio': ''}\n",
    "customer = 'apple,banana'\n"
   ]
  },
  {
   "cell_type": "code",
   "execution_count": 10,
   "metadata": {},
   "outputs": [],
   "source": [
    "bio_list = {'personal_bio': ''}\n",
    "customer = ['apple', 'banana']\n"
   ]
  },
  {
   "cell_type": "code",
   "execution_count": 11,
   "metadata": {},
   "outputs": [
    {
     "name": "stdout",
     "output_type": "stream",
     "text": [
      "lahore\n",
      "lahore\n",
      "karachi\n",
      "karachi\n"
     ]
    }
   ],
   "source": [
    "cities = ['lahore', 'karachi']\n",
    "\n",
    "for city in cities:\n",
    "    print(city)\n",
    "    print(city)\n"
   ]
  },
  {
   "cell_type": "code",
   "execution_count": 12,
   "metadata": {},
   "outputs": [],
   "source": [
    "costumer_dic = personal_bio\n",
    "list= (personal_bio)\n",
    "list = \"apple , banana , grapes,  hat\""
   ]
  },
  {
   "cell_type": "code",
   "execution_count": 13,
   "metadata": {},
   "outputs": [
    {
     "name": "stdout",
     "output_type": "stream",
     "text": [
      "first_name, last_name,address\n"
     ]
    }
   ],
   "source": [
    "first_name = ('ibrahim')\n",
    "last_name = ('syc')\n",
    "address = ('aus')\n",
    "print(\"first_name, last_name,address\")"
   ]
  },
  {
   "cell_type": "code",
   "execution_count": 14,
   "metadata": {},
   "outputs": [
    {
     "name": "stdout",
     "output_type": "stream",
     "text": [
      "Customer email: customer1@example.com\n",
      "Customer email: customer2@example.com\n",
      "Customer email: customer3@example.com\n"
     ]
    }
   ],
   "source": [
    "customer_dict = {\n",
    "    'customer1': {'email': 'customer1@example.com'},\n",
    "    'customer2': {'email': 'customer2@example.com'},\n",
    "    'customer3': {'email': 'customer3@example.com'}\n",
    "}\n",
    "\n",
    "for customer, details in customer_dict.items():\n",
    "    email = details['email']\n",
    "    print(f\"Customer email: {email}\")\n"
   ]
  },
  {
   "cell_type": "code",
   "execution_count": 15,
   "metadata": {},
   "outputs": [],
   "source": [
    "customers = {\n",
    "    'customer1': {\n",
    "        'name': 'ibrahim',\n",
    "        'age': 18,\n",
    "        'email': 'syc@example.com',\n",
    "        'address': '123 Main St, Anytown, aus'\n",
    "    },\n",
    "    'customer2': {\n",
    "        'name': 'ibrahim',\n",
    "        'age': 18,\n",
    "        'email': 'syc@example.com',\n",
    "        'address': '456 Elm St, Newtown, aus'\n",
    "    },\n",
    "    'customer3': {\n",
    "        'name': 'ibrahim',\n",
    "        'age': 18,\n",
    "        'email': 'syc@example.com',\n",
    "        'address': '789 Oak Ave, Othertown, aus'\n",
    "    },\n",
    "    'customer4': {\n",
    "        'name': 'ibrahm',\n",
    "        'age': 18,\n",
    "        'email': 'syc@example.com',\n",
    "        'address': '321 Cedar rd, multan, aus'\n",
    "    }\n",
    "}\n"
   ]
  },
  {
   "cell_type": "code",
   "execution_count": 16,
   "metadata": {},
   "outputs": [
    {
     "name": "stdout",
     "output_type": "stream",
     "text": [
      "ibrahim\n",
      "syc@example.com\n"
     ]
    }
   ],
   "source": [
    "print(customers['customer1']['name'])   \n",
    "print(customers['customer2']['email'])  \n"
   ]
  },
  {
   "cell_type": "code",
   "execution_count": 17,
   "metadata": {},
   "outputs": [
    {
     "name": "stdout",
     "output_type": "stream",
     "text": [
      "key is: ibrahim\n",
      "value is: {'address': '123 Main St', 'age': 18}\n",
      "address of ibrahim is 123 Main St\n",
      "-----\n",
      "key is: syc\n",
      "value is: {'address': '456 Elm St', 'age': 18}\n",
      "address of syc is 456 Elm St\n",
      "-----\n",
      "****** Loop ends ******\n"
     ]
    }
   ],
   "source": [
    "\n",
    "customers = {\n",
    "    'ibrahim': {'address': '123 Main St', 'age': 18},\n",
    "    'syc': {'address': '456 Elm St', 'age': 18}\n",
    "}\n",
    "\n",
    "for key, value in customers.items():\n",
    "    print(f'key is: {key}')\n",
    "    print(f'value is: {value}')\n",
    "    print(f'address of {key} is {value[\"address\"]}')  \n",
    "    print(\"-----\")\n",
    "\n",
    "print(\"****** Loop ends ******\")\n"
   ]
  },
  {
   "cell_type": "code",
   "execution_count": 18,
   "metadata": {},
   "outputs": [],
   "source": [
    "saylani = {\"python\": {\"timings\" : \"mwf\",\n",
    "                        \"instructer\": \"ayan\"},\n",
    "                \"data engneering\": { \"timing\" : \"tts\",\n",
    "                                 \"instructer\": \"ibrahim\"}}"
   ]
  },
  {
   "cell_type": "code",
   "execution_count": 19,
   "metadata": {},
   "outputs": [],
   "source": [
    "# print()\n",
    "# type()\n",
    "# id()\n",
    "# input ---> function (operation) ---> diserd result (based on operation)"
   ]
  },
  {
   "cell_type": "code",
   "execution_count": 20,
   "metadata": {},
   "outputs": [],
   "source": [
    "def print_func():\n",
    "    print(\"saylani\")"
   ]
  },
  {
   "cell_type": "code",
   "execution_count": 21,
   "metadata": {},
   "outputs": [
    {
     "name": "stdout",
     "output_type": "stream",
     "text": [
      "saylani\n"
     ]
    }
   ],
   "source": [
    "print_func()"
   ]
  },
  {
   "cell_type": "code",
   "execution_count": 22,
   "metadata": {},
   "outputs": [
    {
     "name": "stdout",
     "output_type": "stream",
     "text": [
      "13\n"
     ]
    }
   ],
   "source": [
    "def add(a,b):\n",
    "    total = a+b\n",
    "    print(total)\n",
    "add(4,9)    "
   ]
  },
  {
   "cell_type": "code",
   "execution_count": 23,
   "metadata": {},
   "outputs": [
    {
     "name": "stdout",
     "output_type": "stream",
     "text": [
      "16\n"
     ]
    }
   ],
   "source": [
    "add(7,9)"
   ]
  },
  {
   "cell_type": "code",
   "execution_count": 24,
   "metadata": {},
   "outputs": [],
   "source": [
    "def temp_kelvin(celcius, default_kelvin_value = 273.15):\n",
    "    print(celcius + default_kelvin_value)"
   ]
  },
  {
   "cell_type": "code",
   "execution_count": 25,
   "metadata": {},
   "outputs": [
    {
     "name": "stdout",
     "output_type": "stream",
     "text": [
      "361.15\n"
     ]
    }
   ],
   "source": [
    "temp_kelvin(88)"
   ]
  },
  {
   "cell_type": "code",
   "execution_count": 26,
   "metadata": {},
   "outputs": [
    {
     "name": "stdout",
     "output_type": "stream",
     "text": [
      "-4\n"
     ]
    }
   ],
   "source": [
    "def subtract(a,b):\n",
    "    print(a-b)\n",
    "subtract(2,6)"
   ]
  },
  {
   "cell_type": "code",
   "execution_count": 27,
   "metadata": {},
   "outputs": [],
   "source": [
    "def greetings(first_name, last_name, greetings=\"welcome\"):\n",
    "    print(f'hey, {first_name}{last_name},{greetings}')"
   ]
  },
  {
   "cell_type": "code",
   "execution_count": 28,
   "metadata": {},
   "outputs": [
    {
     "name": "stdout",
     "output_type": "stream",
     "text": [
      "hey, Ibrahimshah,welcome\n"
     ]
    }
   ],
   "source": [
    "greetings(\"Ibrahim\",\"shah\")"
   ]
  },
  {
   "cell_type": "code",
   "execution_count": 29,
   "metadata": {},
   "outputs": [
    {
     "name": "stdout",
     "output_type": "stream",
     "text": [
      "351\n"
     ]
    }
   ],
   "source": [
    "temp_kelvin(78,273)"
   ]
  },
  {
   "cell_type": "code",
   "execution_count": 30,
   "metadata": {},
   "outputs": [
    {
     "name": "stdout",
     "output_type": "stream",
     "text": [
      "4\n"
     ]
    }
   ],
   "source": [
    "str1 = \"syco\"\n",
    "print(len(str1))"
   ]
  },
  {
   "cell_type": "code",
   "execution_count": 31,
   "metadata": {},
   "outputs": [
    {
     "name": "stdout",
     "output_type": "stream",
     "text": [
      "n\n"
     ]
    }
   ],
   "source": [
    "str = \"honeybee\"\n",
    "ch = str [2] \n",
    "print(ch)"
   ]
  },
  {
   "cell_type": "code",
   "execution_count": 32,
   "metadata": {},
   "outputs": [
    {
     "name": "stdout",
     "output_type": "stream",
     "text": [
      "bra\n"
     ]
    }
   ],
   "source": [
    "str = \"ibrahim shah\"\n",
    "print(str[1:4])"
   ]
  },
  {
   "cell_type": "code",
   "execution_count": 33,
   "metadata": {},
   "outputs": [
    {
     "name": "stdout",
     "output_type": "stream",
     "text": [
      "evil\n"
     ]
    }
   ],
   "source": [
    "str = \"sycodevil\"\n",
    "print(str[5:len(str)])"
   ]
  },
  {
   "cell_type": "code",
   "execution_count": 34,
   "metadata": {},
   "outputs": [
    {
     "name": "stdout",
     "output_type": "stream",
     "text": [
      "ppl\n"
     ]
    }
   ],
   "source": [
    "str = \"apple\"\n",
    "print(str[-4:-1])"
   ]
  },
  {
   "cell_type": "code",
   "execution_count": 35,
   "metadata": {},
   "outputs": [
    {
     "name": "stdout",
     "output_type": "stream",
     "text": [
      "False\n"
     ]
    }
   ],
   "source": [
    "str = \" i am studing from saylani\"\n",
    "print(str.endswith(\"say\"))"
   ]
  },
  {
   "cell_type": "code",
   "execution_count": 36,
   "metadata": {},
   "outputs": [
    {
     "name": "stdout",
     "output_type": "stream",
     "text": [
      "I am studing from saylani\n"
     ]
    }
   ],
   "source": [
    "str = \"i am studing from saylani\"\n",
    "print(str.capitalize())"
   ]
  },
  {
   "cell_type": "code",
   "execution_count": 37,
   "metadata": {},
   "outputs": [
    {
     "name": "stdout",
     "output_type": "stream",
     "text": [
      "I am studing from saylani\n"
     ]
    }
   ],
   "source": [
    "str = \"i am studing from saylani\"\n",
    "str = str . capitalize()\n",
    "print(str)"
   ]
  },
  {
   "cell_type": "code",
   "execution_count": 38,
   "metadata": {},
   "outputs": [
    {
     "name": "stdout",
     "output_type": "stream",
     "text": [
      "i om studing from soyloni\n"
     ]
    }
   ],
   "source": [
    "str = \"i am studing from saylani\"\n",
    "print(str.replace(\"a\",\"o\"))"
   ]
  },
  {
   "cell_type": "code",
   "execution_count": 39,
   "metadata": {},
   "outputs": [
    {
     "name": "stdout",
     "output_type": "stream",
     "text": [
      "13\n"
     ]
    }
   ],
   "source": [
    "str = \"i am studing from saylani\"\n",
    "print(str.find(\"from\"))"
   ]
  },
  {
   "cell_type": "code",
   "execution_count": 40,
   "metadata": {},
   "outputs": [
    {
     "name": "stdout",
     "output_type": "stream",
     "text": [
      "1\n"
     ]
    }
   ],
   "source": [
    "str = \"i am studing from saylani\"\n",
    "print(str.count(\"from\"))"
   ]
  },
  {
   "cell_type": "code",
   "execution_count": 1,
   "metadata": {},
   "outputs": [
    {
     "name": "stdout",
     "output_type": "stream",
     "text": [
      "length of your name is 0\n"
     ]
    }
   ],
   "source": [
    "name = input(\"enter your name : \")\n",
    "print(\"length of your name is\",len(name))"
   ]
  },
  {
   "cell_type": "code",
   "execution_count": null,
   "metadata": {},
   "outputs": [
    {
     "name": "stdout",
     "output_type": "stream",
     "text": [
      "3\n"
     ]
    }
   ],
   "source": [
    "str = \"hi, $Iam the $ symbol $99.99\"\n",
    "print(str.count(\"$\"))"
   ]
  },
  {
   "cell_type": "code",
   "execution_count": null,
   "metadata": {},
   "outputs": [
    {
     "name": "stdout",
     "output_type": "stream",
     "text": [
      "error\n"
     ]
    }
   ],
   "source": [
    "light = (input(\"enter your colour: \"))\n",
    "if light == (\"red\"):\n",
    "    print(\"stop\")\n",
    "elif light == (\"yellow\"):\n",
    "    print(\"wait\")\n",
    "elif light == (\"green\"):\n",
    "    print(\"go\")\n",
    "else:\n",
    "    print(\"error\")"
   ]
  },
  {
   "cell_type": "code",
   "execution_count": null,
   "metadata": {},
   "outputs": [
    {
     "name": "stdout",
     "output_type": "stream",
     "text": [
      "cannot vote\n"
     ]
    }
   ],
   "source": [
    "age = int(input(\"enter your age: \"))\n",
    "if (age <= 20):\n",
    "    print(\"cannot vote\")\n",
    "elif (age == 30):\n",
    "    print(\"can vote\")\n",
    "elif (age >= 70):\n",
    "    print(\"cannot vote\")\n",
    "else:\n",
    "    print(\"error\")"
   ]
  },
  {
   "cell_type": "code",
   "execution_count": null,
   "metadata": {},
   "outputs": [
    {
     "name": "stdout",
     "output_type": "stream",
     "text": [
      "A\n",
      "grade of student is  90\n"
     ]
    }
   ],
   "source": [
    "grade = int(input(\"enter your grades: \"))\n",
    "if grade >= 90:\n",
    "    print(\"A\")\n",
    "elif grade < 90 and grade >=80:\n",
    "    print(\"B\")\n",
    "elif grade <80 and grade >= 70:\n",
    "    print(\"C\")\n",
    "elif grade <= 70 and grade >=60:\n",
    "    print(\"D\")\n",
    "else:\n",
    "    print(\"f\")\n",
    "print(\"grade of student is \",grade)\n"
   ]
  },
  {
   "cell_type": "code",
   "execution_count": null,
   "metadata": {},
   "outputs": [
    {
     "name": "stdout",
     "output_type": "stream",
     "text": [
      "can drive\n"
     ]
    }
   ],
   "source": [
    "age = int(input(\"enter your age: \"))\n",
    "if age >= 18:\n",
    "    if age>= 80:\n",
    "        print(\"cannot drive\")\n",
    "    else:\n",
    "        print(\"can drive\")\n",
    "else:\n",
    "    print(\"cannot drive\")"
   ]
  },
  {
   "cell_type": "code",
   "execution_count": null,
   "metadata": {},
   "outputs": [
    {
     "name": "stdout",
     "output_type": "stream",
     "text": [
      "5\n",
      "95.1\n",
      "80.1\n"
     ]
    }
   ],
   "source": [
    "marks = [95.1,90.1,85.1,80.1,75.1]\n",
    "print(len(marks))\n",
    "print(marks[0])\n",
    "print(marks[3])"
   ]
  },
  {
   "cell_type": "code",
   "execution_count": null,
   "metadata": {},
   "outputs": [
    {
     "name": "stdout",
     "output_type": "stream",
     "text": [
      "['Ibrahim', 95.1, 18, 'karachi']\n"
     ]
    }
   ],
   "source": [
    "student = [\"Ibrahim\",95.1,18,\"karachi\"]\n",
    "print(student)"
   ]
  },
  {
   "cell_type": "code",
   "execution_count": null,
   "metadata": {},
   "outputs": [
    {
     "name": "stdout",
     "output_type": "stream",
     "text": [
      "karachi\n",
      "['miharbi', 95.1, 18, 'karachi']\n"
     ]
    }
   ],
   "source": [
    "student = [\"Ibrahim\",95.1,18,\"karachi\"]\n",
    "print(student[3])\n",
    "student[0] = \"miharbi\"\n",
    "print(student)"
   ]
  },
  {
   "cell_type": "code",
   "execution_count": null,
   "metadata": {},
   "outputs": [
    {
     "name": "stdout",
     "output_type": "stream",
     "text": [
      "[90]\n"
     ]
    }
   ],
   "source": [
    "marks = [95,90,85,80,75]\n",
    "print(marks[-4: -3])"
   ]
  },
  {
   "cell_type": "code",
   "execution_count": null,
   "metadata": {},
   "outputs": [
    {
     "name": "stdout",
     "output_type": "stream",
     "text": [
      "[95, 90, 85]\n"
     ]
    }
   ],
   "source": [
    "marks = [95,90,85,80,75]\n",
    "print(marks[0:3])"
   ]
  },
  {
   "cell_type": "code",
   "execution_count": null,
   "metadata": {},
   "outputs": [
    {
     "name": "stdout",
     "output_type": "stream",
     "text": [
      "[2, 3, 1, 5]\n"
     ]
    }
   ],
   "source": [
    "list = [2,3,1]\n",
    "list.append(5)\n",
    "print(list)"
   ]
  },
  {
   "cell_type": "code",
   "execution_count": null,
   "metadata": {},
   "outputs": [
    {
     "name": "stdout",
     "output_type": "stream",
     "text": [
      "[6, 7, 8, 9]\n"
     ]
    }
   ],
   "source": [
    "list = [7,6,8,9]\n",
    "list.sort()\n",
    "print(list)"
   ]
  },
  {
   "cell_type": "code",
   "execution_count": null,
   "metadata": {},
   "outputs": [
    {
     "name": "stdout",
     "output_type": "stream",
     "text": [
      "[14, 9, 8]\n"
     ]
    }
   ],
   "source": [
    "list = [8,9,14]\n",
    "list. sort (reverse = True)\n",
    "print(list)"
   ]
  },
  {
   "cell_type": "code",
   "execution_count": null,
   "metadata": {},
   "outputs": [
    {
     "name": "stdout",
     "output_type": "stream",
     "text": [
      "None\n",
      "None\n",
      "[3, 4, 5, 6, 7, 9]\n"
     ]
    }
   ],
   "source": [
    "list = [7,6,9,3,5]\n",
    "print(list.append(4))\n",
    "print(list.sort())\n",
    "print(list)"
   ]
  },
  {
   "cell_type": "code",
   "execution_count": null,
   "metadata": {},
   "outputs": [
    {
     "name": "stdout",
     "output_type": "stream",
     "text": [
      "None\n",
      "None\n",
      "[9, 7, 6, 5, 4, 3]\n"
     ]
    }
   ],
   "source": [
    "list = [7,6,9,3,5]\n",
    "print(list.append(4))\n",
    "print(list.sort(reverse = True))\n",
    "print(list)"
   ]
  },
  {
   "cell_type": "code",
   "execution_count": null,
   "metadata": {},
   "outputs": [
    {
     "name": "stdout",
     "output_type": "stream",
     "text": [
      "['banana', 'litchi', 'mango']\n"
     ]
    }
   ],
   "source": [
    "list = [\"banana\",\"litchi\",\"mango\"]\n",
    "list.sort()\n",
    "print(list)"
   ]
  },
  {
   "cell_type": "code",
   "execution_count": null,
   "metadata": {},
   "outputs": [
    {
     "name": "stdout",
     "output_type": "stream",
     "text": [
      "['h', 'e', 'd', 'c', 'b', 'a']\n"
     ]
    }
   ],
   "source": [
    "list= [\"a\",\"h\",\"b\",\"d\",\"c\",\"e\"]\n",
    "list.sort(reverse=True)\n",
    "print(list)"
   ]
  },
  {
   "cell_type": "code",
   "execution_count": null,
   "metadata": {},
   "outputs": [
    {
     "name": "stdout",
     "output_type": "stream",
     "text": [
      "[3, 2, 1, 0]\n"
     ]
    }
   ],
   "source": [
    "list = [3,2,1]\n",
    "list.insert(3,0)\n",
    "print(list)"
   ]
  },
  {
   "cell_type": "code",
   "execution_count": null,
   "metadata": {},
   "outputs": [
    {
     "name": "stdout",
     "output_type": "stream",
     "text": [
      "[3, 2, 1]\n"
     ]
    }
   ],
   "source": [
    "list = [4,3,2,1]\n",
    "list.remove(4)\n",
    "print(list)"
   ]
  },
  {
   "cell_type": "code",
   "execution_count": null,
   "metadata": {},
   "outputs": [
    {
     "name": "stdout",
     "output_type": "stream",
     "text": [
      "[1, 7]\n"
     ]
    }
   ],
   "source": [
    "list = [1,7,8]\n",
    "list.pop(2)\n",
    "print(list)"
   ]
  },
  {
   "cell_type": "code",
   "execution_count": null,
   "metadata": {},
   "outputs": [
    {
     "name": "stdout",
     "output_type": "stream",
     "text": [
      "2\n",
      "1\n",
      "<class 'tuple'>\n"
     ]
    }
   ],
   "source": [
    "tuple = (2,1,3,1)\n",
    "print(tuple[0])\n",
    "print(tuple[1])\n",
    "print(type(tuple))"
   ]
  },
  {
   "cell_type": "code",
   "execution_count": null,
   "metadata": {},
   "outputs": [
    {
     "name": "stdout",
     "output_type": "stream",
     "text": [
      "(1,)\n",
      "<class 'tuple'>\n"
     ]
    }
   ],
   "source": [
    "tup = (1,)\n",
    "print(tup)\n",
    "print(type(tup))"
   ]
  },
  {
   "cell_type": "code",
   "execution_count": null,
   "metadata": {},
   "outputs": [
    {
     "name": "stdout",
     "output_type": "stream",
     "text": [
      "(3, 2)\n"
     ]
    }
   ],
   "source": [
    "tup = (1,3,2,4)\n",
    "print(tup[1:3])"
   ]
  },
  {
   "cell_type": "code",
   "execution_count": null,
   "metadata": {},
   "outputs": [
    {
     "name": "stdout",
     "output_type": "stream",
     "text": [
      "2\n"
     ]
    }
   ],
   "source": [
    "tup = (1,2,3,4)\n",
    "print(tup.index(3))"
   ]
  },
  {
   "cell_type": "code",
   "execution_count": null,
   "metadata": {},
   "outputs": [
    {
     "name": "stdout",
     "output_type": "stream",
     "text": [
      "3\n"
     ]
    }
   ],
   "source": [
    "tup = (1,2,3,2,4,2)\n",
    "print(tup.count(2))"
   ]
  },
  {
   "cell_type": "code",
   "execution_count": null,
   "metadata": {},
   "outputs": [
    {
     "name": "stdout",
     "output_type": "stream",
     "text": [
      "['blue', 'red', 'green']\n"
     ]
    }
   ],
   "source": [
    "movie = []\n",
    "mov1 = input(\"enter your first mov: \")\n",
    "mov2 = input(\"enter your sec mov: \")\n",
    "mov3 = input(\"enter your thr mov: \")\n",
    "movie.append(mov1)\n",
    "movie.append(mov2)\n",
    "movie.append(mov3)\n",
    "print(movie)"
   ]
  },
  {
   "cell_type": "code",
   "execution_count": null,
   "metadata": {},
   "outputs": [
    {
     "name": "stdout",
     "output_type": "stream",
     "text": [
      "['red', 'blue', 'green']\n"
     ]
    }
   ],
   "source": [
    "movie = []\n",
    "movie.append(input(\"enter your first mov: \"))\n",
    "movie.append(input(\"enter your sec mov: \"))\n",
    "movie.append(input(\"enter your thr mov: \"))\n",
    "print(movie)"
   ]
  },
  {
   "cell_type": "code",
   "execution_count": null,
   "metadata": {},
   "outputs": [
    {
     "name": "stdout",
     "output_type": "stream",
     "text": [
      "['c', 'd', 'e']\n"
     ]
    }
   ],
   "source": [
    "grade = [\"c\",\"d\",\"e\"]\n",
    "grade.sort()\n",
    "print(grade)"
   ]
  },
  {
   "cell_type": "code",
   "execution_count": null,
   "metadata": {},
   "outputs": [
    {
     "name": "stdout",
     "output_type": "stream",
     "text": [
      "<class 'dict'>\n",
      "{'name': 'IBRAHIM', 'topic': ('dict', 'set'), 'age': 18, 'sub': ['python']}\n"
     ]
    }
   ],
   "source": [
    "INFO = {\n",
    "    \"name\" : \"IBRAHIM\",\n",
    "    \"topic\":  (\"dict\",\"set\"),\n",
    "    \"age\"  :  18,\n",
    "    \"sub\"  : [\"python\"],\n",
    "}\n",
    "print(type(INFO))\n",
    "print(INFO)"
   ]
  },
  {
   "cell_type": "code",
   "execution_count": null,
   "metadata": {},
   "outputs": [
    {
     "name": "stdout",
     "output_type": "stream",
     "text": [
      "{'name': 'syed', 'topic': ('dict', 'set'), 'age': 18, 'sub': ['python'], 'surname': 'ibrahim'}\n",
      "{'name': 'FRIDAY'}\n"
     ]
    }
   ],
   "source": [
    "dict = {\n",
    "    \"name\" : \"IBRAHIM\",\n",
    "    \"topic\":  (\"dict\",\"set\"),\n",
    "    \"age\"  :  18,\n",
    "    \"sub\"  : [\"python\"],\n",
    "}\n",
    "null_dict = {}\n",
    "null_dict [\"name\"] = \"FRIDAY\"\n",
    "dict [\"name\"] = \"syed\"\n",
    "dict [\"surname\"] = \"ibrahim\"\n",
    "print(dict)\n",
    "print(null_dict)\n",
    "\n"
   ]
  },
  {
   "cell_type": "code",
   "execution_count": null,
   "metadata": {},
   "outputs": [
    {
     "name": "stdout",
     "output_type": "stream",
     "text": [
      "{'name': 'ibm', 'age': 18, 'sub': {'phy': 90, 'bio': 87, 'chem': 86}}\n",
      "86\n"
     ]
    }
   ],
   "source": [
    "student = {\n",
    "    \"name\" : \"ibm\",\n",
    "    \"age\"  :  18,\n",
    "    \"sub\"  :  {\n",
    "        \"phy\" : 90,\n",
    "        \"bio\" : 87,\n",
    "        \"chem\" : 86\n",
    "    }\n",
    "}\n",
    "print(student)\n",
    "print(student[\"sub\"][\"chem\"])"
   ]
  },
  {
   "cell_type": "code",
   "execution_count": null,
   "metadata": {},
   "outputs": [
    {
     "name": "stdout",
     "output_type": "stream",
     "text": [
      "dict_keys(['name', 'age', 'songs'])\n",
      "3\n"
     ]
    }
   ],
   "source": [
    "dict = {\n",
    "    \"name\" : \"Ibm\",\n",
    "    \"age\" : 18,\n",
    "    \"songs\" : {\n",
    "        \"yyhs\" : \"blue eyes\",\n",
    "        \"shubh\" : \"you and me\",\n",
    "        \"arijit\" : \"ve kamleya\"    \n",
    "    }\n",
    "}\n",
    "print(dict.keys())\n",
    "print(len(list(dict.keys())))"
   ]
  },
  {
   "cell_type": "code",
   "execution_count": null,
   "metadata": {},
   "outputs": [
    {
     "name": "stdout",
     "output_type": "stream",
     "text": [
      "dict_keys(['name', 'age', 'songs'])\n",
      "['Ibm', 18, {'yyhs': 'blue eyes', 'shubh': 'you and me', 'arijit': 've kamleya'}]\n"
     ]
    }
   ],
   "source": [
    "dict = {\n",
    "    \"name\" : \"Ibm\",\n",
    "    \"age\" : 18,\n",
    "    \"songs\" : {\n",
    "        \"yyhs\" : \"blue eyes\",\n",
    "        \"shubh\" : \"you and me\",\n",
    "        \"arijit\" : \"ve kamleya\"    \n",
    "    }\n",
    "}\n",
    "print(dict.keys())\n",
    "print(list(dict.values()))"
   ]
  },
  {
   "cell_type": "code",
   "execution_count": null,
   "metadata": {},
   "outputs": [
    {
     "name": "stdout",
     "output_type": "stream",
     "text": [
      "[('name', 'Ibm'), ('age', 18), ('songs', {'yyhs': 'blue eyes', 'shubh': 'you and me', 'arijit': 've kamleya'})]\n",
      "('age', 18)\n"
     ]
    }
   ],
   "source": [
    "dict = {\n",
    "    \"name\" : \"Ibm\",\n",
    "    \"age\" : 18,\n",
    "    \"songs\" : {\n",
    "        \"yyhs\" : \"blue eyes\",\n",
    "        \"shubh\" : \"you and me\",\n",
    "        \"arijit\" : \"ve kamleya\"    \n",
    "    }\n",
    "}\n",
    "print(list(dict.items()))\n",
    "pairs = list(dict.items())\n",
    "print(pairs[1])"
   ]
  },
  {
   "cell_type": "code",
   "execution_count": null,
   "metadata": {},
   "outputs": [
    {
     "name": "stdout",
     "output_type": "stream",
     "text": [
      "None\n"
     ]
    }
   ],
   "source": [
    "student = {\n",
    "    \"name\" : \"ibm\",\n",
    "    \"age\"  :  18,\n",
    "    \"sub\"  :  {\n",
    "        \"phy\" : 90,\n",
    "        \"bio\" : 87,\n",
    "        \"chem\" : 86\n",
    "    }\n",
    "}\n",
    "# print(student[\"name2\"])\n",
    "print(student.get(\"name2\"))"
   ]
  },
  {
   "cell_type": "code",
   "execution_count": null,
   "metadata": {},
   "outputs": [
    {
     "name": "stdout",
     "output_type": "stream",
     "text": [
      "{'name': 'ibm', 'age': 18, 'sub': {'phy': 90, 'bio': 87, 'chem': 86}, 'city': 'karachi'}\n"
     ]
    }
   ],
   "source": [
    "student = {\n",
    "    \"name\" : \"ibm\",\n",
    "    \"age\"  :  18,\n",
    "    \"sub\"  :  {\n",
    "        \"phy\" : 90,\n",
    "        \"bio\" : 87,\n",
    "        \"chem\" : 86\n",
    "    }\n",
    "}\n",
    "new_dict = {\"city\" : \"karachi\"}\n",
    "student.update(new_dict)\n",
    "print(student)"
   ]
  },
  {
   "cell_type": "code",
   "execution_count": null,
   "metadata": {},
   "outputs": [
    {
     "name": "stdout",
     "output_type": "stream",
     "text": [
      "<class 'set'>\n",
      "5\n"
     ]
    }
   ],
   "source": [
    "collection = {1,2,3,4,4,4,4,\"world\",\"world\"}\n",
    "print(type(collection))\n",
    "print(len(collection))"
   ]
  },
  {
   "cell_type": "code",
   "execution_count": null,
   "metadata": {},
   "outputs": [
    {
     "name": "stdout",
     "output_type": "stream",
     "text": [
      "<class 'set'>\n"
     ]
    }
   ],
   "source": [
    "collection = set()\n",
    "print(type(collection))"
   ]
  },
  {
   "cell_type": "code",
   "execution_count": null,
   "metadata": {},
   "outputs": [
    {
     "name": "stdout",
     "output_type": "stream",
     "text": [
      "0\n"
     ]
    }
   ],
   "source": [
    "collection = set()\n",
    "collection.add(1)\n",
    "collection.add(2)\n",
    "collection.add(2)\n",
    "collection.remove(1)\n",
    "collection.add((1,2,3))\n",
    "collection.clear()\n",
    "print(len(collection))"
   ]
  },
  {
   "cell_type": "code",
   "execution_count": null,
   "metadata": {},
   "outputs": [
    {
     "name": "stdout",
     "output_type": "stream",
     "text": [
      "world\n",
      "ibrahim\n"
     ]
    }
   ],
   "source": [
    "collection = {\"hello\",\"ibrahim\",\"world\"}\n",
    "print(collection.pop())\n",
    "print(collection.pop())"
   ]
  },
  {
   "cell_type": "code",
   "execution_count": null,
   "metadata": {},
   "outputs": [
    {
     "name": "stdout",
     "output_type": "stream",
     "text": [
      "{1, 2, 3, 4, 5}\n"
     ]
    }
   ],
   "source": [
    "set1 = {1,2,3}\n",
    "set2 = {4,5}\n",
    "print(set1.union(set2))"
   ]
  },
  {
   "cell_type": "code",
   "execution_count": null,
   "metadata": {},
   "outputs": [
    {
     "name": "stdout",
     "output_type": "stream",
     "text": [
      "{1, 2}\n"
     ]
    }
   ],
   "source": [
    "set1 = {1,2,2}\n",
    "set2 = {1,3,2}\n",
    "print(set1.intersection(set2))"
   ]
  },
  {
   "cell_type": "code",
   "execution_count": null,
   "metadata": {},
   "outputs": [],
   "source": [
    "count = 1\n",
    "while count<=10 :\n",
    "    print(\"hello\")\n",
    "    count += 1\n",
    "\n",
    "\n",
    "i = 1\n",
    "while i <= 1000:\n",
    "    print(\"world\")\n",
    "    i += 1\n",
    "i = 5\n",
    "while i >=1:\n",
    "    print(i)\n",
    "    i -= 1\n",
    "print(\"loop end\")"
   ]
  },
  {
   "cell_type": "code",
   "execution_count": null,
   "metadata": {},
   "outputs": [],
   "source": [
    "i = 100\n",
    "while i >= 1:\n",
    "    print(i)\n",
    "    i -= 1"
   ]
  },
  {
   "cell_type": "code",
   "execution_count": null,
   "metadata": {},
   "outputs": [],
   "source": [
    "n = 3\n",
    "i = 1 \n",
    "while i <= 10:\n",
    "    print(3*i)\n",
    "    i += 1\n",
    "    "
   ]
  },
  {
   "cell_type": "code",
   "execution_count": null,
   "metadata": {},
   "outputs": [
    {
     "name": "stdout",
     "output_type": "stream",
     "text": [
      "1\n",
      "4\n",
      "9\n",
      "16\n",
      "25\n",
      "36\n",
      "49\n",
      "64\n",
      "81\n",
      "100\n"
     ]
    }
   ],
   "source": [
    "nums = [1,4,9,16,25,36,49,64,81,100]\n",
    "idx = 0\n",
    "while idx < len (nums):\n",
    "    print(nums[idx])\n",
    "    idx+=1\n",
    "    \n"
   ]
  },
  {
   "cell_type": "code",
   "execution_count": null,
   "metadata": {},
   "outputs": [
    {
     "name": "stdout",
     "output_type": "stream",
     "text": [
      "finding..\n",
      "finding..\n",
      "finding..\n",
      "finding..\n",
      "finding..\n",
      "finding..\n",
      "found 6\n"
     ]
    }
   ],
   "source": [
    "nums = [1,4,9,16,25,36,49,64,81,100]\n",
    "x= 49\n",
    "i= 0\n",
    "while i <len(nums):\n",
    "    if(nums[i] == x):\n",
    "        print(\"found\",i)\n",
    "        break\n",
    "    else:\n",
    "        print(\"finding..\")\n",
    "    i += 1\n",
    "    "
   ]
  },
  {
   "cell_type": "code",
   "execution_count": null,
   "metadata": {},
   "outputs": [
    {
     "name": "stdout",
     "output_type": "stream",
     "text": [
      "1\n",
      "2\n",
      "3\n"
     ]
    }
   ],
   "source": [
    "i = 1\n",
    "while i <=5:\n",
    "    print(i)\n",
    "    if(i == 3):\n",
    "        break\n",
    "    i += 1"
   ]
  },
  {
   "cell_type": "code",
   "execution_count": null,
   "metadata": {},
   "outputs": [
    {
     "name": "stdout",
     "output_type": "stream",
     "text": [
      "0\n",
      "2\n",
      "4\n",
      "6\n",
      "8\n",
      "10\n"
     ]
    }
   ],
   "source": [
    "i = 0\n",
    "while i <= 10:\n",
    "    if(i % 2 != 0):\n",
    "        i += 1\n",
    "        continue\n",
    "    print(i)\n",
    "    i += 1\n",
    "    \n",
    "         "
   ]
  },
  {
   "cell_type": "code",
   "execution_count": null,
   "metadata": {},
   "outputs": [
    {
     "name": "stdout",
     "output_type": "stream",
     "text": [
      "banana\n",
      "apple\n",
      "grapes\n"
     ]
    }
   ],
   "source": [
    "list = [\"banana\",\"apple\",\"grapes\"]\n",
    "for el in list:\n",
    "    print(el)"
   ]
  },
  {
   "cell_type": "code",
   "execution_count": null,
   "metadata": {},
   "outputs": [
    {
     "name": "stdout",
     "output_type": "stream",
     "text": [
      "1\n",
      "3\n",
      "2\n",
      "4\n",
      "5\n"
     ]
    }
   ],
   "source": [
    "tup = (1,3,2,4,5)\n",
    "for val in tup:\n",
    "    print(val)"
   ]
  },
  {
   "cell_type": "code",
   "execution_count": null,
   "metadata": {},
   "outputs": [
    {
     "name": "stdout",
     "output_type": "stream",
     "text": [
      "i\n",
      "b\n",
      "r\n",
      "a\n",
      "h\n",
      "i\n",
      "m\n"
     ]
    }
   ],
   "source": [
    "str =\"ibrahim\"\n",
    "for chr in str:\n",
    "    print(chr)"
   ]
  },
  {
   "cell_type": "code",
   "execution_count": null,
   "metadata": {},
   "outputs": [
    {
     "name": "stdout",
     "output_type": "stream",
     "text": [
      "i\n",
      "b\n",
      "r\n",
      "a\n",
      "h found\n",
      "end\n"
     ]
    }
   ],
   "source": [
    "str = \"ibrahim\"\n",
    "for chr in str:\n",
    "    if(chr == 'h'):\n",
    "        print(\"h found\")\n",
    "        break\n",
    "    print(chr)\n",
    "print(\"end\")"
   ]
  },
  {
   "cell_type": "code",
   "execution_count": null,
   "metadata": {},
   "outputs": [
    {
     "name": "stdout",
     "output_type": "stream",
     "text": [
      "0\n",
      "1\n",
      "2\n",
      "3\n",
      "4\n"
     ]
    }
   ],
   "source": [
    "seq = range(5)\n",
    "print(seq[0])\n",
    "print(seq[1])\n",
    "print(seq[2])\n",
    "print(seq[3])\n",
    "print(seq[4])\n"
   ]
  },
  {
   "cell_type": "code",
   "execution_count": null,
   "metadata": {},
   "outputs": [
    {
     "name": "stdout",
     "output_type": "stream",
     "text": [
      "2\n",
      "4\n",
      "6\n",
      "8\n"
     ]
    }
   ],
   "source": [
    "eseq = range(5)\n",
    "\n",
    "for i in seq:\n",
    "    print(i)\n",
    "    \n",
    "    \n",
    "for i in range(2,10,2):\n",
    "    print(i)"
   ]
  },
  {
   "cell_type": "code",
   "execution_count": null,
   "metadata": {},
   "outputs": [
    {
     "name": "stdout",
     "output_type": "stream",
     "text": [
      "some unuseful work\n"
     ]
    }
   ],
   "source": [
    "for i in range (5):\n",
    "    pass\n",
    "if i > 5:\n",
    "    pass\n",
    "print(\"some unuseful work\")"
   ]
  },
  {
   "cell_type": "code",
   "execution_count": null,
   "metadata": {},
   "outputs": [
    {
     "name": "stdout",
     "output_type": "stream",
     "text": [
      "15\n"
     ]
    }
   ],
   "source": [
    "def cal_sum(a,b):\n",
    "    sum = a + b\n",
    "    print(sum) \n",
    "cal_sum(5,10)"
   ]
  },
  {
   "cell_type": "code",
   "execution_count": null,
   "metadata": {},
   "outputs": [
    {
     "name": "stdout",
     "output_type": "stream",
     "text": [
      "13\n"
     ]
    }
   ],
   "source": [
    "def cal_sum(a,b):\n",
    "    return a+ b\n",
    "sum = cal_sum(5,8)\n",
    "print(sum)"
   ]
  },
  {
   "cell_type": "code",
   "execution_count": null,
   "metadata": {},
   "outputs": [
    {
     "name": "stdout",
     "output_type": "stream",
     "text": [
      "hello\n",
      "None\n"
     ]
    }
   ],
   "source": [
    "def print_hello():\n",
    "    print(\"hello\")\n",
    "output = print_hello()\n",
    "print(output)"
   ]
  },
  {
   "cell_type": "code",
   "execution_count": null,
   "metadata": {},
   "outputs": [
    {
     "name": "stdout",
     "output_type": "stream",
     "text": [
      "3.6666666666666665\n"
     ]
    }
   ],
   "source": [
    "def cal_avg(a,b,c):\n",
    "    sum = a + b + c\n",
    "    avg = sum / 3\n",
    "    print(avg)\n",
    "    \n",
    "cal_avg(1,7,3)\n",
    "\n"
   ]
  },
  {
   "cell_type": "code",
   "execution_count": null,
   "metadata": {},
   "outputs": [
    {
     "name": "stdout",
     "output_type": "stream",
     "text": [
      "110.0\n"
     ]
    }
   ],
   "source": [
    "def calc_tax(sales_total,tax_rate=0.22):\n",
    "    print(sales_total*tax_rate)\n",
    "calc_tax(sales_total=1000,tax_rate = 0.11)"
   ]
  },
  {
   "cell_type": "code",
   "execution_count": null,
   "metadata": {},
   "outputs": [
    {
     "data": {
      "text/plain": [
       "110.0"
      ]
     },
     "execution_count": 7,
     "metadata": {},
     "output_type": "execute_result"
    }
   ],
   "source": [
    "def calc_tax(sales_total,tax_rate=0.22):\n",
    "    tax =sales_total*tax_rate\n",
    "    return tax\n",
    "calc_tax(sales_total=1000,tax_rate = 0.11)"
   ]
  },
  {
   "cell_type": "code",
   "execution_count": null,
   "metadata": {},
   "outputs": [
    {
     "name": "stdout",
     "output_type": "stream",
     "text": [
      "110.0\n",
      "None\n"
     ]
    }
   ],
   "source": [
    "def calc_tax(sales_total,tax_rate=0.22):\n",
    "    tax =sales_total*tax_rate\n",
    "    print(tax)\n",
    "tax= calc_tax(sales_total=1000,tax_rate = 0.11)\n",
    "print(tax)"
   ]
  },
  {
   "cell_type": "code",
   "execution_count": null,
   "metadata": {},
   "outputs": [
    {
     "data": {
      "text/plain": [
       "'LA'"
      ]
     },
     "execution_count": 29,
     "metadata": {},
     "output_type": "execute_result"
    }
   ],
   "source": [
    "custumer = {\n",
    "  0: {'first name': 'David',\n",
    "    'last name': 'Elliott',\n",
    "    'address': '4803 Wellesley St.',\n",
    "    'city': 'LA'},\n",
    "  1:  {'first name': 'Qasim',\n",
    "    'last name': 'Hassan',\n",
    "    'address': 'Near SMIT',\n",
    "    'city': 'Karachi'},\n",
    "  2:  {'first name': 'Hassan',\n",
    "    'last name': 'Khan',\n",
    "    'address': 'Johar town',\n",
    "    'city': 'Lahore'}\n",
    "}\n",
    "def custumer_detail(custumer_id=int(input(\"Enter your id: \")),custumer_detail=input(\"enter the detail: \")):\n",
    "    return custumer[custumer_id][custumer_detail]\n",
    "custumer_detail()\n"
   ]
  },
  {
   "cell_type": "code",
   "execution_count": null,
   "metadata": {},
   "outputs": [
    {
     "name": "stdout",
     "output_type": "stream",
     "text": [
      "winner name is IBRAHIM. & its score is 9\n",
      "country-->australlia\n",
      "sports-->cricket\n",
      "year-->2024\n"
     ]
    }
   ],
   "source": [
    "def olampic_winner(winner_name,winner_score,**kwargs):\n",
    "    print(f\"winner name is {winner_name} & its score is {winner_score}\")\n",
    "    for key, value in kwargs.items():\n",
    "        print(f\"{key}-->{value}\")\n",
    "olampic_winner(\"IBRAHIM\", 9 ,country =\"australlia\",sports =\"cricket\",year = 2024)"
   ]
  },
  {
   "cell_type": "code",
   "execution_count": null,
   "metadata": {},
   "outputs": [],
   "source": [
    "global tax_rate\n",
    "tax_rate = 0.02\n",
    "def addition():\n",
    "    a =3\n",
    "    b= 4\n",
    "    total = a + b\n",
    "    tax_rate = total * tax_rate\n",
    "    return total,tax_rate\n"
   ]
  },
  {
   "cell_type": "code",
   "execution_count": null,
   "metadata": {},
   "outputs": [],
   "source": [
    "def calc_tax (total):\n",
    "        total_sales = total*0.02\n",
    "        return total_sales\n",
    "def sales_calc  (tariq_store,gulshan_store,dha_store):\n",
    "    total = gulshan_store + tariq_store + dha_store\n",
    "    return total\n",
    "    \n",
    "  "
   ]
  },
  {
   "cell_type": "code",
   "execution_count": null,
   "metadata": {},
   "outputs": [
    {
     "name": "stdout",
     "output_type": "stream",
     "text": [
      "validation check for loop:australlia\n",
      "australliais a clean city\n"
     ]
    }
   ],
   "source": [
    "user_input = input(\"enter your country:\")\n",
    "clean_country = ['australlia','tokyo','calofonia']\n",
    "for country in clean_country: \n",
    "    print(f\"validation check for loop:{country}\")\n",
    "    if user_input == country:\n",
    "        print(f\"{user_input}is a clean city\")\n",
    "        break   \n"
   ]
  },
  {
   "cell_type": "code",
   "execution_count": null,
   "metadata": {},
   "outputs": [
    {
     "name": "stdout",
     "output_type": "stream",
     "text": [
      "australliais in clean country list\n",
      "australliais in clean country list\n",
      "australliais in clean country list\n"
     ]
    }
   ],
   "source": [
    "clean_country = ['australlia','tokyo','calofonia']\n",
    "while_cond = True\n",
    "while while_cond:\n",
    "    user_input = input(\"enter your country you want to check: \")\n",
    "    for country in clean_country:\n",
    "        print(f'{user_input}is in clean country list')\n",
    "        while_cond = False"
   ]
  },
  {
   "cell_type": "code",
   "execution_count": null,
   "metadata": {},
   "outputs": [
    {
     "name": "stdout",
     "output_type": "stream",
     "text": [
      "[1, 2, 4]\n"
     ]
    }
   ],
   "source": [
    "value = [3,4,6,]\n",
    "boom = [x  -  2 for x in value]\n",
    "print(boom)\n",
    "\n",
    "\n"
   ]
  },
  {
   "cell_type": "code",
   "execution_count": null,
   "metadata": {},
   "outputs": [
    {
     "name": "stdout",
     "output_type": "stream",
     "text": [
      "[1, 4, 9, 16, 25]\n"
     ]
    }
   ],
   "source": [
    "number = [1,2,3,4,5,]\n",
    "sindh = [ x ** 2 for x in number]\n",
    "print(sindh)"
   ]
  },
  {
   "cell_type": "code",
   "execution_count": null,
   "metadata": {},
   "outputs": [
    {
     "name": "stdout",
     "output_type": "stream",
     "text": [
      "[1, 2, 3]\n"
     ]
    }
   ],
   "source": [
    "list = [character for character in [1,2,3,]]\n",
    "print(list)"
   ]
  },
  {
   "cell_type": "code",
   "execution_count": null,
   "metadata": {},
   "outputs": [
    {
     "name": "stdout",
     "output_type": "stream",
     "text": [
      "[0, 2, 4, 6, 8, 10]\n"
     ]
    }
   ],
   "source": [
    "list = [i for i in range(11) if i % 2 == 0]\n",
    "print (list)"
   ]
  },
  {
   "cell_type": "code",
   "execution_count": null,
   "metadata": {},
   "outputs": [
    {
     "name": "stdout",
     "output_type": "stream",
     "text": [
      "[[0, 1, 2], [0, 1, 2], [0, 1, 2]]\n"
     ]
    }
   ],
   "source": [
    "matrix = [[j for j in range (3)] for i in range(3)]\n",
    "print(matrix)"
   ]
  },
  {
   "cell_type": "code",
   "execution_count": null,
   "metadata": {},
   "outputs": [
    {
     "name": "stdout",
     "output_type": "stream",
     "text": [
      "['g', 'e', 'e', 'k', 's', ' ', '4', ' ', 'g', 'e', 'e', 'k', 's', '!']\n"
     ]
    }
   ],
   "source": [
    "list = []\n",
    "for chr in 'geeks 4 geeks!':\n",
    "    list.append(chr)\n",
    "print(list)"
   ]
  },
  {
   "cell_type": "code",
   "execution_count": null,
   "metadata": {},
   "outputs": [
    {
     "name": "stdout",
     "output_type": "stream",
     "text": [
      "['g', 'e', 'e', 'k', ' ', '4', ' ', 'g', 'e', 'e', 'k', 's', '!']\n"
     ]
    }
   ],
   "source": [
    "list = [chr for chr in 'geek 4 geeks!']\n",
    "print(list)\n"
   ]
  },
  {
   "cell_type": "code",
   "execution_count": null,
   "metadata": {},
   "outputs": [
    {
     "name": "stdout",
     "output_type": "stream",
     "text": [
      "tie taken for_loop: 0.61\n",
      "time taken for list_comprehension: 0.45\n"
     ]
    }
   ],
   "source": [
    "import time\n",
    "def for_loop (n):\n",
    "    result = []\n",
    "    for i in range(n):\n",
    "        result.append(i ** 2)\n",
    "    return result\n",
    "def list_comprehension(n):\n",
    "    return[i ** 2 for i in range(n)]\n",
    "begin = time.time()\n",
    "for_loop(10**6)\n",
    "end = time .time()\n",
    "print('tie taken for_loop:',round(end-begin, 2))\n",
    "begin = time.time()\n",
    "list_comprehension(10 ** 6)\n",
    "end = time .time()\n",
    "print('time taken for list_comprehension:',round(end-begin, 2))"
   ]
  },
  {
   "cell_type": "code",
   "execution_count": null,
   "metadata": {},
   "outputs": [
    {
     "name": "stdout",
     "output_type": "stream",
     "text": [
      "[[0, 1, 2, 3, 4], [0, 1, 2, 3, 4], [0, 1, 2, 3, 4]]\n"
     ]
    }
   ],
   "source": [
    "matrix = []\n",
    "for i in range(3):\n",
    "    matrix.append([])\n",
    "    for j in range (5):\n",
    "        matrix[i].append(j)\n",
    "print(matrix)"
   ]
  },
  {
   "cell_type": "code",
   "execution_count": null,
   "metadata": {},
   "outputs": [
    {
     "name": "stdout",
     "output_type": "stream",
     "text": [
      "[[0, 1, 2, 3, 4], [0, 1, 2, 3, 4], [0, 1, 2, 3, 4]]\n"
     ]
    }
   ],
   "source": [
    "matrix = [[j for j in range(5)] for i in range(3)] \n",
    "print(matrix)\n"
   ]
  },
  {
   "cell_type": "code",
   "execution_count": null,
   "metadata": {},
   "outputs": [
    {
     "name": "stdout",
     "output_type": "stream",
     "text": [
      "[10, 20, 30, 40, 50]\n"
     ]
    }
   ],
   "source": [
    "number = []\n",
    "for i in range(1, 6):\n",
    "    number.append(i * 10)\n",
    "print(number)"
   ]
  },
  {
   "cell_type": "code",
   "execution_count": null,
   "metadata": {},
   "outputs": [
    {
     "name": "stdout",
     "output_type": "stream",
     "text": [
      "[10, 20, 30, 40, 50]\n"
     ]
    }
   ],
   "source": [
    "num = [ i * 10 for i in range(1, 6)]\n",
    "print(num)"
   ]
  },
  {
   "cell_type": "code",
   "execution_count": null,
   "metadata": {},
   "outputs": [
    {
     "name": "stdout",
     "output_type": "stream",
     "text": [
      "[10, 20, 30, 40, 50]\n"
     ]
    }
   ],
   "source": [
    "numbers = list(map(lambda i : i * 10, [i for i in range(1, 6)]))\n",
    "print(numbers)"
   ]
  },
  {
   "cell_type": "code",
   "execution_count": null,
   "metadata": {},
   "outputs": [
    {
     "name": "stdout",
     "output_type": "stream",
     "text": [
      "['even number', 'odd number', 'even number', 'odd number', 'even number', 'odd number', 'even number', 'odd number']\n"
     ]
    }
   ],
   "source": [
    "list = [\"even number\" if i % 2 == 0\n",
    "        else \"odd number\" for i in range(8)]\n",
    "print(list)"
   ]
  },
  {
   "cell_type": "code",
   "execution_count": null,
   "metadata": {},
   "outputs": [
    {
     "name": "stdout",
     "output_type": "stream",
     "text": [
      "[0, 10, 20, 30, 40, 50, 60, 70, 80, 90, 100, 110, 120, 130, 140, 150]\n"
     ]
    }
   ],
   "source": [
    "list = [num for num in range(160)\n",
    "        if num % 5 == 0 if num% 10 == 0]\n",
    "print (list)\n"
   ]
  },
  {
   "cell_type": "code",
   "execution_count": null,
   "metadata": {},
   "outputs": [
    {
     "name": "stdout",
     "output_type": "stream",
     "text": [
      "[1, 4, 9, 16, 25, 36, 49, 64, 81, 100]\n"
     ]
    }
   ],
   "source": [
    "sqaure = [ n ** 2 for n in range(1, 11)]\n",
    "print(sqaure)"
   ]
  },
  {
   "cell_type": "code",
   "execution_count": null,
   "metadata": {},
   "outputs": [
    {
     "name": "stdout",
     "output_type": "stream",
     "text": [
      "['miharbi', 'lived']\n"
     ]
    }
   ],
   "source": [
    "List = [string[::-1] for string in ('ibrahim' , 'devil')]\n",
    "print(List) "
   ]
  },
  {
   "cell_type": "code",
   "execution_count": null,
   "metadata": {},
   "outputs": [
    {
     "name": "stdout",
     "output_type": "stream",
     "text": [
      "I love money.\n"
     ]
    }
   ],
   "source": [
    "def f():\n",
    "    s = \"I love money.\"\n",
    "    print(s)\n",
    "f()"
   ]
  },
  {
   "cell_type": "code",
   "execution_count": null,
   "metadata": {},
   "outputs": [
    {
     "name": "stdout",
     "output_type": "stream",
     "text": [
      "Inside function: I love cars\n"
     ]
    }
   ],
   "source": [
    "s = \"I love cars\"\n",
    "def f():\n",
    "    print(\"Inside function:\",s)\n",
    "f() \n",
    "\n"
   ]
  },
  {
   "cell_type": "code",
   "execution_count": null,
   "metadata": {},
   "outputs": [],
   "source": [
    "class Saylani:\n",
    "    def __init__(self, branch, course):\n",
    "        self.branch = branch\n",
    "        self.course = course\n",
    "\n",
    "    def details(self):\n",
    "        print(f\"Branch: {self.branch}, Course: {self.course}\")\n",
    "\n",
    "saylani_instance = Saylani(\"Karachi\", \"Python Programming\")\n",
    "\n",
    "saylani_instance.details()\n"
   ]
  },
  {
   "cell_type": "code",
   "execution_count": null,
   "metadata": {},
   "outputs": [
    {
     "name": "stdout",
     "output_type": "stream",
     "text": [
      "Ibrahim is travelling in r8\n",
      "r8 is carrying luggage of weight 500\n",
      "Audi\n",
      "r8\n",
      "2015\n"
     ]
    }
   ],
   "source": [
    "class Automobile:\n",
    "    def __init__(self, model_years, name, brand, colour):\n",
    "        self.model_years = model_years\n",
    "        self.name = name\n",
    "        self.brand = brand\n",
    "        self.colour = colour\n",
    "\n",
    "    def travel(self, passenger):\n",
    "        print(f\"{passenger} is travelling in {self.name}\")\n",
    "\n",
    "    def carry(self, weight, goods):\n",
    "        print(f\"{self.name} is carrying {goods} of weight {weight}\")\n",
    "\n",
    "car1 = Automobile(2015, \"r8\",\"Audi\", \"Black\") \n",
    "\n",
    "car1.travel(\"Ibrahim\")\n",
    "car1.carry(500, \"luggage\")\n",
    "print(car1.brand)\n",
    "print(car1.name)\n",
    "print(car1.model_years)"
   ]
  },
  {
   "cell_type": "code",
   "execution_count": null,
   "metadata": {},
   "outputs": [
    {
     "name": "stdout",
     "output_type": "stream",
     "text": [
      "Teacher Ibrahim is teaching Python at 9 to 11\n",
      "Teacher Ibrahim is teaching Data Science at 2 to 5\n",
      "Right now, Ibrahim is teaching Python\n",
      "Right now, Ibrahim is teaching Data Science\n"
     ]
    }
   ],
   "source": [
    "class Teacher:\n",
    "    def __init__(self, name, course, timing):\n",
    "        self.name = name\n",
    "        self.course = course\n",
    "        self.timing = timing\n",
    "\n",
    "    def details(self):\n",
    "        print(f\"Teacher {self.name} is teaching {self.course} at {self.timing}\")\n",
    "\n",
    "    def teaching(self, course):\n",
    "        print(f\"Right now, {self.name} is teaching {course}\")\n",
    "\n",
    "obj1 = Teacher(\"Ibrahim\", \"Python\", \"9 to 11\")\n",
    "obj2 = Teacher(\"Ibrahim\", \"Data Science\", \"2 to 5\")\n",
    "\n",
    "obj1.details()\n",
    "obj2.details()\n",
    "obj1.teaching(\"Python\")\n",
    "obj2.teaching(\"Data Science\")\n",
    "\n",
    "\n",
    "\n",
    "\n"
   ]
  },
  {
   "cell_type": "code",
   "execution_count": null,
   "metadata": {},
   "outputs": [
    {
     "name": "stdout",
     "output_type": "stream",
     "text": [
      "Total teachers: 2\n",
      "Subject specialization: General\n",
      "Teacher Ibrahim is teaching Python at 9 to 11\n",
      "Teacher Ibrahim is teaching Data Science at 2 to 5\n",
      "Right now, Ibrahim is teaching Python\n",
      "Right now, Ibrahim is teaching Data Science\n"
     ]
    }
   ],
   "source": [
    "class Teacher:\n",
    "    total_teachers = 0\n",
    "    subject_specialization = \"General\"\n",
    "\n",
    "    def __init__(self, name, course, timing):\n",
    "        self.name = name\n",
    "        self.course = course\n",
    "        self.timing = timing\n",
    "        Teacher.total_teachers += 1  \n",
    "\n",
    "    def details(self):\n",
    "        print(f\"Teacher {self.name} is teaching {self.course} at {self.timing}\")\n",
    "\n",
    "    def teaching(self, course):\n",
    "        print(f\"Right now, {self.name} is teaching {course}\")\n",
    "\n",
    "obj1 = Teacher(\"Ibrahim\", \"Python\", \"9 to 11\")\n",
    "obj2 = Teacher(\"Ibrahim\", \"Data Science\", \"2 to 5\")\n",
    "\n",
    "print(f\"Total teachers: {Teacher.total_teachers}\")\n",
    "print(f\"Subject specialization: {Teacher.subject_specialization}\")\n",
    "\n",
    "obj1.details()\n",
    "obj2.details()\n",
    "obj1.teaching(\"Python\")\n",
    "obj2.teaching(\"Data Science\")\n"
   ]
  },
  {
   "cell_type": "code",
   "execution_count": null,
   "metadata": {},
   "outputs": [
    {
     "name": "stdout",
     "output_type": "stream",
     "text": [
      "The result is 1.1111111111111112\n",
      "This will run no matter what.\n"
     ]
    }
   ],
   "source": [
    "try:\n",
    "    num = int(input(\"Enter a number: \"))\n",
    "    result = 10 / num\n",
    "except ZeroDivisionError:\n",
    "    print(\"You can't divide by zero!\")\n",
    "except ValueError:\n",
    "    print(\"That's not a valid number!\")\n",
    "else:\n",
    "    print(f\"The result is {result}\")\n",
    "finally:\n",
    "    print(\"This will run no matter what.\")\n"
   ]
  },
  {
   "cell_type": "code",
   "execution_count": null,
   "metadata": {},
   "outputs": [
    {
     "name": "stdout",
     "output_type": "stream",
     "text": [
      "you must be at least 18 years old.\n"
     ]
    }
   ],
   "source": [
    "def check_age(age):\n",
    "    if age < 18:\n",
    "        raise ValueError(\"you must be at least 18 years old.\")\n",
    "    return \" you are allowed.\"\n",
    "try:\n",
    "    check_age(15)\n",
    "except ValueError as e:\n",
    "    print(e)\n",
    "    "
   ]
  },
  {
   "cell_type": "code",
   "execution_count": null,
   "metadata": {},
   "outputs": [],
   "source": [
    "class CustomError(Exception):\n",
    "    pass\n",
    "\n",
    "try:\n",
    "    raise CustomError(\"This is a custom error\")\n",
    "except CustomError as e:\n",
    "    print(e)\n"
   ]
  },
  {
   "cell_type": "code",
   "execution_count": null,
   "metadata": {},
   "outputs": [],
   "source": [
    "x = 10\n",
    "assert x > 5, \"x is too small!\""
   ]
  },
  {
   "cell_type": "code",
   "execution_count": null,
   "metadata": {},
   "outputs": [],
   "source": [
    "def divide_numbers(a, b):\n",
    "    try:\n",
    "        result = a / b\n",
    "        return result\n",
    "    except ZeroDivisionError:\n",
    "        return \"Cannot divide by zero\"\n",
    "    finally:\n",
    "        print(\"Execution completed\")\n",
    "print(divide_numbers(10, 0))\n"
   ]
  },
  {
   "cell_type": "code",
   "execution_count": null,
   "metadata": {},
   "outputs": [],
   "source": [
    "my_dict = {'name': 'ibra', 'age': 18}\n",
    "print(my_dict['name']) \n",
    "print(my_dict['address'])  \n"
   ]
  },
  {
   "cell_type": "code",
   "execution_count": null,
   "metadata": {},
   "outputs": [],
   "source": [
    "try:\n",
    "    with open('non_existent_file.txt', 'r') as file:\n",
    "        data = file.read()\n",
    "except FileNotFoundError as e:\n",
    "    print(\"Caught FileNotFoundError:\", e)\n"
   ]
  },
  {
   "cell_type": "code",
   "execution_count": null,
   "metadata": {},
   "outputs": [],
   "source": [
    "try:\n",
    "    result = '2' + 3  \n",
    "except TypeError as e:\n",
    "    print(\"Caught TypeError:\", e)\n"
   ]
  },
  {
   "cell_type": "code",
   "execution_count": null,
   "metadata": {},
   "outputs": [],
   "source": [
    "def get_number():\n",
    "    while True:\n",
    "        user_input = input(\"Please enter a number: \")\n",
    "        try:\n",
    "            number = float(user_input)  \n",
    "            return number\n",
    "        except ValueError:\n",
    "            print(\"That's not a valid number. Please try again.\")\n",
    "\n",
    "def perform_calculation(number):\n",
    "  \n",
    "    result = number / 2\n",
    "    return result\n",
    "\n",
    "def main():\n",
    "    number = get_number()\n",
    "    result = perform_calculation(number)\n",
    "    print(f\"The result of dividing {number} by 2 is {result}.\")\n",
    "\n",
    "if __name__ == \"__main__\":\n",
    "    main()\n"
   ]
  },
  {
   "cell_type": "code",
   "execution_count": null,
   "metadata": {},
   "outputs": [],
   "source": [
    "\n",
    "with open('filename.txt', 'r') as file:\n",
    "    for line in file:\n",
    "        print(line.strip()) "
   ]
  },
  {
   "cell_type": "code",
   "execution_count": null,
   "metadata": {},
   "outputs": [],
   "source": [
    "\n",
    "with open('filename.txt', 'r') as file:\n",
    "    lines = file.readlines()\n",
    "for line in lines:\n",
    "    print(line.strip())"
   ]
  },
  {
   "cell_type": "code",
   "execution_count": null,
   "metadata": {},
   "outputs": [],
   "source": [
    "\n",
    "with open('filename.txt', 'r') as file:\n",
    "    content = file.read()\n",
    "    lines = content.splitlines()\n",
    "for line in lines:\n",
    "    print(line)"
   ]
  }
 ],
 "metadata": {
  "kernelspec": {
   "display_name": "Python 3",
   "language": "python",
   "name": "python3"
  },
  "language_info": {
   "codemirror_mode": {
    "name": "ipython",
    "version": 3
   },
   "file_extension": ".py",
   "mimetype": "text/x-python",
   "name": "python",
   "nbconvert_exporter": "python",
   "pygments_lexer": "ipython3",
   "version": "3.12.4"
  }
 },
 "nbformat": 4,
 "nbformat_minor": 2
}
